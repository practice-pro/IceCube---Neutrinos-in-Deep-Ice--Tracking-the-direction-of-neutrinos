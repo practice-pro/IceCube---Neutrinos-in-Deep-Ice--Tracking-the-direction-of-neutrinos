{
 "cells": [
  {
   "cell_type": "markdown",
   "id": "d9289b70",
   "metadata": {
    "execution": {
     "iopub.execute_input": "2023-04-28T13:30:25.629104Z",
     "iopub.status.busy": "2023-04-28T13:30:25.628381Z",
     "iopub.status.idle": "2023-04-28T13:30:25.636263Z",
     "shell.execute_reply": "2023-04-28T13:30:25.634217Z",
     "shell.execute_reply.started": "2023-04-28T13:30:25.629049Z"
    },
    "papermill": {
     "duration": 0.008721,
     "end_time": "2023-04-29T04:51:22.985863",
     "exception": false,
     "start_time": "2023-04-29T04:51:22.977142",
     "status": "completed"
    },
    "tags": []
   },
   "source": [
    "Detecting the direction of a neutrino from cosmos is important to understand the exceptional phenomena in the universe. They are detected as they are deflected on the sensors placed in the Antarctic region through noticeable reaction with matter to produce balls of light on the detectors. The calculation of Azimuth and Zenith angle would help figure out the orientation of earth with the source's plane and the exact position of the source."
   ]
  },
  {
   "attachments": {
    "4e56dc31-d5d4-472a-b0bf-876dfb6dc9db.png": {
     "image/png": "[encoded data removed]"
    }
   },
   "cell_type": "markdown",
   "id": "17b8d378",
   "metadata": {
    "papermill": {
     "duration": 0.006686,
     "end_time": "2023-04-29T04:51:22.999825",
     "exception": false,
     "start_time": "2023-04-29T04:51:22.993139",
     "status": "completed"
    },
    "tags": []
   },
   "source": [
    "![doc_az.png](attachment:4e56dc31-d5d4-472a-b0bf-876dfb6dc9db.png)"
   ]
  },
  {
   "cell_type": "code",
   "execution_count": 1,
   "id": "9403d45b",
   "metadata": {
    "execution": {
     "iopub.execute_input": "2023-04-29T04:51:23.016653Z",
     "iopub.status.busy": "2023-04-29T04:51:23.015601Z",
     "iopub.status.idle": "2023-04-29T04:51:23.028325Z",
     "shell.execute_reply": "2023-04-29T04:51:23.027347Z"
    },
    "papermill": {
     "duration": 0.024224,
     "end_time": "2023-04-29T04:51:23.030941",
     "exception": false,
     "start_time": "2023-04-29T04:51:23.006717",
     "status": "completed"
    },
    "tags": []
   },
   "outputs": [],
   "source": [
    "import numpy as np\n",
    "import pandas as pd\n",
    "import os"
   ]
  },
  {
   "cell_type": "code",
   "execution_count": 2,
   "id": "36a50caa",
   "metadata": {
    "execution": {
     "iopub.execute_input": "2023-04-29T04:51:23.047381Z",
     "iopub.status.busy": "2023-04-29T04:51:23.046941Z",
     "iopub.status.idle": "2023-04-29T04:51:23.221615Z",
     "shell.execute_reply": "2023-04-29T04:51:23.220349Z"
    },
    "papermill": {
     "duration": 0.186426,
     "end_time": "2023-04-29T04:51:23.224729",
     "exception": false,
     "start_time": "2023-04-29T04:51:23.038303",
     "status": "completed"
    },
    "tags": []
   },
   "outputs": [],
   "source": [
    "import polars as pl\n",
    "import math"
   ]
  },
  {
   "cell_type": "code",
   "execution_count": 3,
   "id": "429e34bf",
   "metadata": {
    "execution": {
     "iopub.execute_input": "2023-04-29T04:51:23.240451Z",
     "iopub.status.busy": "2023-04-29T04:51:23.240017Z",
     "iopub.status.idle": "2023-04-29T04:51:23.259709Z",
     "shell.execute_reply": "2023-04-29T04:51:23.258678Z"
    },
    "papermill": {
     "duration": 0.030903,
     "end_time": "2023-04-29T04:51:23.262640",
     "exception": false,
     "start_time": "2023-04-29T04:51:23.231737",
     "status": "completed"
    },
    "tags": []
   },
   "outputs": [],
   "source": [
    "sensordf=pd.read_csv('/kaggle/input/icecube-neutrinos-in-deep-ice/sensor_geometry.csv')"
   ]
  },
  {
   "cell_type": "code",
   "execution_count": 4,
   "id": "020050b2",
   "metadata": {
    "execution": {
     "iopub.execute_input": "2023-04-29T04:51:23.279640Z",
     "iopub.status.busy": "2023-04-29T04:51:23.278652Z",
     "iopub.status.idle": "2023-04-29T04:51:24.535621Z",
     "shell.execute_reply": "2023-04-29T04:51:24.534269Z"
    },
    "papermill": {
     "duration": 1.26853,
     "end_time": "2023-04-29T04:51:24.538781",
     "exception": false,
     "start_time": "2023-04-29T04:51:23.270251",
     "status": "completed"
    },
    "tags": []
   },
   "outputs": [],
   "source": [
    "import sklearn\n",
    "from sklearn import preprocessing\n",
    "from sklearn.linear_model import HuberRegressor\n",
    "from sklearn.datasets import make_regression\n",
    "from sklearn.linear_model import LinearRegression"
   ]
  },
  {
   "cell_type": "markdown",
   "id": "8771678a",
   "metadata": {
    "papermill": {
     "duration": 0.00753,
     "end_time": "2023-04-29T04:51:24.554615",
     "exception": false,
     "start_time": "2023-04-29T04:51:24.547085",
     "status": "completed"
    },
    "tags": []
   },
   "source": [
    "Huber Regressor is employed to minimize the effect of falsely detected pulses,to obtain the direction of the neutrinos to be deduced from each batch of events provided. The path of neutron traversal is traced for each event through the calculated azimuth and zenith angles."
   ]
  },
  {
   "cell_type": "code",
   "execution_count": 5,
   "id": "c41fcd2c",
   "metadata": {
    "execution": {
     "iopub.execute_input": "2023-04-29T04:51:24.570893Z",
     "iopub.status.busy": "2023-04-29T04:51:24.570457Z",
     "iopub.status.idle": "2023-04-29T04:51:24.577773Z",
     "shell.execute_reply": "2023-04-29T04:51:24.576449Z"
    },
    "papermill": {
     "duration": 0.018561,
     "end_time": "2023-04-29T04:51:24.580182",
     "exception": false,
     "start_time": "2023-04-29T04:51:24.561621",
     "status": "completed"
    },
    "tags": []
   },
   "outputs": [],
   "source": [
    "def conversion(az,zen):\n",
    "    l=len(az)\n",
    "    x=[]\n",
    "    y=[]\n",
    "    z=[]\n",
    "    i=0\n",
    "    for i in np.arange(l):\n",
    "        z.append(math.cos(zen[i]))\n",
    "        x.append(math.cos(az[i])*math.sin(zen[i]))\n",
    "        y.append(math.sin(az[i])*math.sin(zen[i]))\n",
    "    return x,y,z"
   ]
  },
  {
   "cell_type": "code",
   "execution_count": 6,
   "id": "cce7b37f",
   "metadata": {
    "execution": {
     "iopub.execute_input": "2023-04-29T04:51:24.596880Z",
     "iopub.status.busy": "2023-04-29T04:51:24.596077Z",
     "iopub.status.idle": "2023-04-29T04:51:24.602620Z",
     "shell.execute_reply": "2023-04-29T04:51:24.601606Z"
    },
    "papermill": {
     "duration": 0.017969,
     "end_time": "2023-04-29T04:51:24.605196",
     "exception": false,
     "start_time": "2023-04-29T04:51:24.587227",
     "status": "completed"
    },
    "tags": []
   },
   "outputs": [],
   "source": [
    "zenreg=np.array([2.18227660e-05, 3.48103408e-05, 1.24068101e-11])\n",
    "azreg=np.array([-6.38719228e-07, 1.24188883e-04, -3.63128495e-13])\n",
    "sa=np.array([8.48240613e-06, 6.19646559e-05, 7.15244887e-12])\n",
    "sz=np.array([7.26575993e-06, 1.63302382e-05, 6.12656075e-12])"
   ]
  },
  {
   "cell_type": "markdown",
   "id": "60ddff39",
   "metadata": {
    "papermill": {
     "duration": 0.006817,
     "end_time": "2023-04-29T04:51:24.619207",
     "exception": false,
     "start_time": "2023-04-29T04:51:24.612390",
     "status": "completed"
    },
    "tags": []
   },
   "source": [
    "The linear regression coefficients are obtained to be used to predict the direction of each event to track the points of interaction of neutrinos to further obtain the Azimuth and Zenith angles of the corresponding occurrence. Reference to the notebook attached would cover the process used to obtain the coefficients."
   ]
  },
  {
   "cell_type": "markdown",
   "id": "0cd6b750",
   "metadata": {
    "papermill": {
     "duration": 0.006691,
     "end_time": "2023-04-29T04:51:24.633137",
     "exception": false,
     "start_time": "2023-04-29T04:51:24.626446",
     "status": "completed"
    },
    "tags": []
   },
   "source": [
    "https://www.kaggle.com/sumamallapragada/neutrino-observation"
   ]
  },
  {
   "cell_type": "code",
   "execution_count": 7,
   "id": "b129dee6",
   "metadata": {
    "execution": {
     "iopub.execute_input": "2023-04-29T04:51:24.650214Z",
     "iopub.status.busy": "2023-04-29T04:51:24.649749Z",
     "iopub.status.idle": "2023-04-29T04:51:24.655385Z",
     "shell.execute_reply": "2023-04-29T04:51:24.654093Z"
    },
    "papermill": {
     "duration": 0.016621,
     "end_time": "2023-04-29T04:51:24.657906",
     "exception": false,
     "start_time": "2023-04-29T04:51:24.641285",
     "status": "completed"
    },
    "tags": []
   },
   "outputs": [],
   "source": [
    "ac=(sa+azreg)/2"
   ]
  },
  {
   "cell_type": "code",
   "execution_count": 8,
   "id": "d1689b52",
   "metadata": {
    "execution": {
     "iopub.execute_input": "2023-04-29T04:51:24.674011Z",
     "iopub.status.busy": "2023-04-29T04:51:24.673620Z",
     "iopub.status.idle": "2023-04-29T04:51:24.677613Z",
     "shell.execute_reply": "2023-04-29T04:51:24.676811Z"
    },
    "papermill": {
     "duration": 0.01472,
     "end_time": "2023-04-29T04:51:24.679692",
     "exception": false,
     "start_time": "2023-04-29T04:51:24.664972",
     "status": "completed"
    },
    "tags": []
   },
   "outputs": [],
   "source": [
    "zc=(sz+zenreg)/2"
   ]
  },
  {
   "cell_type": "code",
   "execution_count": 9,
   "id": "d639b154",
   "metadata": {
    "execution": {
     "iopub.execute_input": "2023-04-29T04:51:24.695779Z",
     "iopub.status.busy": "2023-04-29T04:51:24.695143Z",
     "iopub.status.idle": "2023-04-29T04:51:24.700154Z",
     "shell.execute_reply": "2023-04-29T04:51:24.699195Z"
    },
    "papermill": {
     "duration": 0.015654,
     "end_time": "2023-04-29T04:51:24.702370",
     "exception": false,
     "start_time": "2023-04-29T04:51:24.686716",
     "status": "completed"
    },
    "tags": []
   },
   "outputs": [],
   "source": [
    "reg=LinearRegression()\n",
    "regz=LinearRegression()\n",
    "reg.coef_=ac\n",
    "regz.coef_=zc\n",
    "reg.intercept_=0.02\n",
    "regz.intercept_=0.02"
   ]
  },
  {
   "cell_type": "code",
   "execution_count": 10,
   "id": "601310c5",
   "metadata": {
    "execution": {
     "iopub.execute_input": "2023-04-29T04:51:24.718317Z",
     "iopub.status.busy": "2023-04-29T04:51:24.717852Z",
     "iopub.status.idle": "2023-04-29T04:51:24.724123Z",
     "shell.execute_reply": "2023-04-29T04:51:24.722812Z"
    },
    "papermill": {
     "duration": 0.017324,
     "end_time": "2023-04-29T04:51:24.726749",
     "exception": false,
     "start_time": "2023-04-29T04:51:24.709425",
     "status": "completed"
    },
    "tags": []
   },
   "outputs": [],
   "source": [
    "def gethuber(btdf):\n",
    "    dn=np.array(btdf['vel_dist'])\n",
    "    dd=dn.reshape(-1,1)\n",
    "    huberpred = HuberRegressor().fit(dd,btdf['auxiliary'])\n",
    "    hl=list(huberpred.predict(dd))\n",
    "    return hl"
   ]
  },
  {
   "cell_type": "markdown",
   "id": "e81a3f8e",
   "metadata": {
    "papermill": {
     "duration": 0.006641,
     "end_time": "2023-04-29T04:51:24.740413",
     "exception": false,
     "start_time": "2023-04-29T04:51:24.733772",
     "status": "completed"
    },
    "tags": []
   },
   "source": [
    "The velocity of the neutrinos while striking the sensors would help predict the distance they covered at the instance recorded and the path they would take while distinguishing between noisy intervention using a huber fit between distance and auxiliary."
   ]
  },
  {
   "cell_type": "code",
   "execution_count": 11,
   "id": "51f138a0",
   "metadata": {
    "execution": {
     "iopub.execute_input": "2023-04-29T04:51:24.756131Z",
     "iopub.status.busy": "2023-04-29T04:51:24.755713Z",
     "iopub.status.idle": "2023-04-29T04:51:24.763066Z",
     "shell.execute_reply": "2023-04-29T04:51:24.761786Z"
    },
    "papermill": {
     "duration": 0.018275,
     "end_time": "2023-04-29T04:51:24.765560",
     "exception": false,
     "start_time": "2023-04-29T04:51:24.747285",
     "status": "completed"
    },
    "tags": []
   },
   "outputs": [],
   "source": [
    "def fetchxyz(btdf):\n",
    "    hl=gethuber(btdf)\n",
    "    ntdf=btdf\n",
    "    ntdf['predict_clarity']=hl\n",
    "    pra=reg.predict(btdf[['vel_dist','sensor_id','predict_clarity']].values)\n",
    "    prz=regz.predict(btdf[['vel_dist','sensor_id','predict_clarity']].values)\n",
    "    ntdf['x'],ntdf['y'],ntdf['z']=conversion(pra,prz)\n",
    "    return ntdf"
   ]
  },
  {
   "cell_type": "markdown",
   "id": "b6e26005",
   "metadata": {
    "papermill": {
     "duration": 0.006676,
     "end_time": "2023-04-29T04:51:24.779351",
     "exception": false,
     "start_time": "2023-04-29T04:51:24.772675",
     "status": "completed"
    },
    "tags": []
   },
   "source": [
    "The direction of each particle is obtained as a fit dependent on distance travelled by the neutrino, clarity of the detected signal going in the visualized direction,sensor id of the sensor struck. The path is tracked as x,y,z coordinates are obtained for the most obvious route detected through the azimuth,zenith angles obtained for each instance of the particular event from the regression fit."
   ]
  },
  {
   "cell_type": "code",
   "execution_count": 12,
   "id": "4c0869fa",
   "metadata": {
    "execution": {
     "iopub.execute_input": "2023-04-29T04:51:24.795367Z",
     "iopub.status.busy": "2023-04-29T04:51:24.794927Z",
     "iopub.status.idle": "2023-04-29T04:51:24.802477Z",
     "shell.execute_reply": "2023-04-29T04:51:24.801172Z"
    },
    "papermill": {
     "duration": 0.018663,
     "end_time": "2023-04-29T04:51:24.804841",
     "exception": false,
     "start_time": "2023-04-29T04:51:24.786178",
     "status": "completed"
    },
    "tags": []
   },
   "outputs": [],
   "source": [
    "def predangle(df):\n",
    "    p1c=np.cov(df['z'],df['x'])\n",
    "    a1=p1c[0][1]/p1c[0][0]\n",
    "    p2c=np.cov(df['z'],df['y'])\n",
    "    a2=p2c[0][1]/p2c[0][0]\n",
    "    d=np.sqrt(1+a1**2+a2**2)\n",
    "    azimuth=np.arctan2(a2,a1)\n",
    "    if azimuth<0:\n",
    "        azimuth=2*np.pi+azimuth\n",
    "    zenith=np.arccos(1/d)\n",
    "    return azimuth,zenith"
   ]
  },
  {
   "cell_type": "markdown",
   "id": "35ec8a00",
   "metadata": {
    "papermill": {
     "duration": 0.006562,
     "end_time": "2023-04-29T04:51:24.818433",
     "exception": false,
     "start_time": "2023-04-29T04:51:24.811871",
     "status": "completed"
    },
    "tags": []
   },
   "source": [
    "The azimuth and zenith angles for each event are deduced from the x,y,z orientation of the neutrinos obtained.Computation is considered through the relations given by,\n",
    "\n",
    "x = cos(azimuth) * sin(zenith)\n",
    "\n",
    "y = sin(azimuth) * sin(zenith)\n",
    "\n",
    "z = cos(zenith)"
   ]
  },
  {
   "cell_type": "code",
   "execution_count": 13,
   "id": "fea91066",
   "metadata": {
    "execution": {
     "iopub.execute_input": "2023-04-29T04:51:24.834506Z",
     "iopub.status.busy": "2023-04-29T04:51:24.833668Z",
     "iopub.status.idle": "2023-04-29T04:51:24.838889Z",
     "shell.execute_reply": "2023-04-29T04:51:24.838070Z"
    },
    "papermill": {
     "duration": 0.01601,
     "end_time": "2023-04-29T04:51:24.841253",
     "exception": false,
     "start_time": "2023-04-29T04:51:24.825243",
     "status": "completed"
    },
    "tags": []
   },
   "outputs": [],
   "source": [
    "import warnings\n",
    "warnings.filterwarnings('ignore')"
   ]
  },
  {
   "cell_type": "code",
   "execution_count": 14,
   "id": "1021649a",
   "metadata": {
    "execution": {
     "iopub.execute_input": "2023-04-29T04:51:24.857815Z",
     "iopub.status.busy": "2023-04-29T04:51:24.856664Z",
     "iopub.status.idle": "2023-04-29T04:51:24.862210Z",
     "shell.execute_reply": "2023-04-29T04:51:24.861372Z"
    },
    "papermill": {
     "duration": 0.016354,
     "end_time": "2023-04-29T04:51:24.864678",
     "exception": false,
     "start_time": "2023-04-29T04:51:24.848324",
     "status": "completed"
    },
    "tags": []
   },
   "outputs": [],
   "source": [
    "import glob"
   ]
  },
  {
   "cell_type": "code",
   "execution_count": 15,
   "id": "20549324",
   "metadata": {
    "execution": {
     "iopub.execute_input": "2023-04-29T04:51:24.880382Z",
     "iopub.status.busy": "2023-04-29T04:51:24.879720Z",
     "iopub.status.idle": "2023-04-29T04:51:25.450147Z",
     "shell.execute_reply": "2023-04-29T04:51:25.449193Z"
    },
    "papermill": {
     "duration": 0.581335,
     "end_time": "2023-04-29T04:51:25.452882",
     "exception": false,
     "start_time": "2023-04-29T04:51:24.871547",
     "status": "completed"
    },
    "tags": []
   },
   "outputs": [],
   "source": [
    "tm=pl.read_parquet('/kaggle/input/icecube-neutrinos-in-deep-ice/test_meta.parquet')\n",
    "tem=tm.to_pandas()\n",
    "ls=len(tem)"
   ]
  },
  {
   "cell_type": "code",
   "execution_count": 16,
   "id": "ec3784ce",
   "metadata": {
    "execution": {
     "iopub.execute_input": "2023-04-29T04:51:25.469408Z",
     "iopub.status.busy": "2023-04-29T04:51:25.468384Z",
     "iopub.status.idle": "2023-04-29T04:51:25.476909Z",
     "shell.execute_reply": "2023-04-29T04:51:25.476047Z"
    },
    "papermill": {
     "duration": 0.019189,
     "end_time": "2023-04-29T04:51:25.479223",
     "exception": false,
     "start_time": "2023-04-29T04:51:25.460034",
     "status": "completed"
    },
    "tags": []
   },
   "outputs": [],
   "source": [
    "def updateangle(testmeta):\n",
    "    anglaz=[]\n",
    "    anglze=[]\n",
    "    t=glob.glob(os.path.join('/kaggle/input/icecube-neutrinos-in-deep-ice', \"test\", \"*.parquet\"))\n",
    "    t.sort()\n",
    "    count=0\n",
    "    for b in t:\n",
    "        testdf=pl.read_parquet(b)\n",
    "        tes=testdf.to_pandas()\n",
    "        l=tes['time'][0]\n",
    "        tes[\"vel_dist\"]=(tes[\"time\"]-l)*0.158 #compute the distance travelled\n",
    "        for i in range(count,ls):\n",
    "            btdf=tes.iloc[testmeta.iloc[i].first_pulse_index.astype(int):testmeta.iloc[i].last_pulse_index.astype(int)+1].copy()\n",
    "            direct=fetchxyz(btdf) #obtain the orientation of the neutrinos for each event.\n",
    "            pa,pz=predangle(direct)#obtain the azimuth and zenith\n",
    "            anglaz.append(pa)\n",
    "            anglze.append(pz)\n",
    "            count+=1\n",
    "        del testdf\n",
    "    return anglaz,anglze"
   ]
  },
  {
   "cell_type": "code",
   "execution_count": 17,
   "id": "d95b25a0",
   "metadata": {
    "execution": {
     "iopub.execute_input": "2023-04-29T04:51:25.495316Z",
     "iopub.status.busy": "2023-04-29T04:51:25.494826Z",
     "iopub.status.idle": "2023-04-29T04:51:25.595869Z",
     "shell.execute_reply": "2023-04-29T04:51:25.594618Z"
    },
    "papermill": {
     "duration": 0.112376,
     "end_time": "2023-04-29T04:51:25.598801",
     "exception": false,
     "start_time": "2023-04-29T04:51:25.486425",
     "status": "completed"
    },
    "tags": []
   },
   "outputs": [],
   "source": [
    "angle_a,angle_z=updateangle(tem)"
   ]
  },
  {
   "cell_type": "code",
   "execution_count": 18,
   "id": "20401e27",
   "metadata": {
    "execution": {
     "iopub.execute_input": "2023-04-29T04:51:25.615204Z",
     "iopub.status.busy": "2023-04-29T04:51:25.614748Z",
     "iopub.status.idle": "2023-04-29T04:51:25.621199Z",
     "shell.execute_reply": "2023-04-29T04:51:25.619905Z"
    },
    "papermill": {
     "duration": 0.017812,
     "end_time": "2023-04-29T04:51:25.623869",
     "exception": false,
     "start_time": "2023-04-29T04:51:25.606057",
     "status": "completed"
    },
    "tags": []
   },
   "outputs": [],
   "source": [
    "tem['azimuth']=angle_a\n",
    "tem['zenith']=angle_z"
   ]
  },
  {
   "cell_type": "code",
   "execution_count": 19,
   "id": "9152d14e",
   "metadata": {
    "execution": {
     "iopub.execute_input": "2023-04-29T04:51:25.640649Z",
     "iopub.status.busy": "2023-04-29T04:51:25.639689Z",
     "iopub.status.idle": "2023-04-29T04:51:25.647951Z",
     "shell.execute_reply": "2023-04-29T04:51:25.646706Z"
    },
    "papermill": {
     "duration": 0.019227,
     "end_time": "2023-04-29T04:51:25.650293",
     "exception": false,
     "start_time": "2023-04-29T04:51:25.631066",
     "status": "completed"
    },
    "tags": []
   },
   "outputs": [],
   "source": [
    "subp=tem[['event_id', 'azimuth', 'zenith']]"
   ]
  },
  {
   "cell_type": "code",
   "execution_count": 20,
   "id": "d8052558",
   "metadata": {
    "execution": {
     "iopub.execute_input": "2023-04-29T04:51:25.666531Z",
     "iopub.status.busy": "2023-04-29T04:51:25.666075Z",
     "iopub.status.idle": "2023-04-29T04:51:25.689580Z",
     "shell.execute_reply": "2023-04-29T04:51:25.688233Z"
    },
    "papermill": {
     "duration": 0.035108,
     "end_time": "2023-04-29T04:51:25.692513",
     "exception": false,
     "start_time": "2023-04-29T04:51:25.657405",
     "status": "completed"
    },
    "tags": []
   },
   "outputs": [
    {
     "data": {
      "text/html": [
       "<div>\n",
       "<style scoped>\n",
       "    .dataframe tbody tr th:only-of-type {\n",
       "        vertical-align: middle;\n",
       "    }\n",
       "\n",
       "    .dataframe tbody tr th {\n",
       "        vertical-align: top;\n",
       "    }\n",
       "\n",
       "    .dataframe thead th {\n",
       "        text-align: right;\n",
       "    }\n",
       "</style>\n",
       "<table border=\"1\" class=\"dataframe\">\n",
       "  <thead>\n",
       "    <tr style=\"text-align: right;\">\n",
       "      <th></th>\n",
       "      <th>event_id</th>\n",
       "      <th>azimuth</th>\n",
       "      <th>zenith</th>\n",
       "    </tr>\n",
       "  </thead>\n",
       "  <tbody>\n",
       "    <tr>\n",
       "      <th>0</th>\n",
       "      <td>2092</td>\n",
       "      <td>3.679622</td>\n",
       "      <td>1.475926</td>\n",
       "    </tr>\n",
       "    <tr>\n",
       "      <th>1</th>\n",
       "      <td>7344</td>\n",
       "      <td>3.731160</td>\n",
       "      <td>1.480751</td>\n",
       "    </tr>\n",
       "    <tr>\n",
       "      <th>2</th>\n",
       "      <td>9482</td>\n",
       "      <td>3.794852</td>\n",
       "      <td>1.472428</td>\n",
       "    </tr>\n",
       "  </tbody>\n",
       "</table>\n",
       "</div>"
      ],
      "text/plain": [
       "   event_id   azimuth    zenith\n",
       "0      2092  3.679622  1.475926\n",
       "1      7344  3.731160  1.480751\n",
       "2      9482  3.794852  1.472428"
      ]
     },
     "execution_count": 20,
     "metadata": {},
     "output_type": "execute_result"
    }
   ],
   "source": [
    "subp"
   ]
  },
  {
   "cell_type": "code",
   "execution_count": 21,
   "id": "4ce6ae18",
   "metadata": {
    "execution": {
     "iopub.execute_input": "2023-04-29T04:51:25.709901Z",
     "iopub.status.busy": "2023-04-29T04:51:25.709021Z",
     "iopub.status.idle": "2023-04-29T04:51:25.719471Z",
     "shell.execute_reply": "2023-04-29T04:51:25.718579Z"
    },
    "papermill": {
     "duration": 0.022111,
     "end_time": "2023-04-29T04:51:25.722019",
     "exception": false,
     "start_time": "2023-04-29T04:51:25.699908",
     "status": "completed"
    },
    "tags": []
   },
   "outputs": [],
   "source": [
    "subp.to_csv(\"submission.csv\",index=False)"
   ]
  }
 ],
 "metadata": {
  "kernelspec": {
   "display_name": "Python 3",
   "language": "python",
   "name": "python3"
  },
  "language_info": {
   "codemirror_mode": {
    "name": "ipython",
    "version": 3
   },
   "file_extension": ".py",
   "mimetype": "text/x-python",
   "name": "python",
   "nbconvert_exporter": "python",
   "pygments_lexer": "ipython3",
   "version": "3.7.12"
  },
  "papermill": {
   "default_parameters": {},
   "duration": 14.121518,
   "end_time": "2023-04-29T04:51:26.452568",
   "environment_variables": {},
   "exception": null,
   "input_path": "__notebook__.ipynb",
   "output_path": "__notebook__.ipynb",
   "parameters": {},
   "start_time": "2023-04-29T04:51:12.331050",
   "version": "2.4.0"
  }
 },
 "nbformat": 4,
 "nbformat_minor": 5
}
