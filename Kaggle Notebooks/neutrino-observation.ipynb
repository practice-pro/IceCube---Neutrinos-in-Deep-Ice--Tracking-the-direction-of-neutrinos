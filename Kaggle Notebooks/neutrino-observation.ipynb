{
 "cells": [
  {
   "cell_type": "markdown",
   "id": "0edb1fd9",
   "metadata": {
    "papermill": {
     "duration": 0.017602,
     "end_time": "2023-04-29T04:45:21.246439",
     "exception": false,
     "start_time": "2023-04-29T04:45:21.228837",
     "status": "completed"
    },
    "tags": []
   },
   "source": [
    "This notebook shows the dependencies required to obtain Azimuth and Zenith angles of the neutrinos detected for an event."
   ]
  },
  {
   "cell_type": "code",
   "execution_count": 1,
   "id": "6d6e7c37",
   "metadata": {
    "execution": {
     "iopub.execute_input": "2023-04-29T04:45:21.284001Z",
     "iopub.status.busy": "2023-04-29T04:45:21.282974Z",
     "iopub.status.idle": "2023-04-29T04:45:21.296740Z",
     "shell.execute_reply": "2023-04-29T04:45:21.295824Z"
    },
    "papermill": {
     "duration": 0.03477,
     "end_time": "2023-04-29T04:45:21.299398",
     "exception": false,
     "start_time": "2023-04-29T04:45:21.264628",
     "status": "completed"
    },
    "tags": []
   },
   "outputs": [],
   "source": [
    "import numpy as np\n",
    "import pandas as pd\n",
    "import os"
   ]
  },
  {
   "cell_type": "code",
   "execution_count": 2,
   "id": "923cef9d",
   "metadata": {
    "execution": {
     "iopub.execute_input": "2023-04-29T04:45:21.334005Z",
     "iopub.status.busy": "2023-04-29T04:45:21.333213Z",
     "iopub.status.idle": "2023-04-29T04:45:35.446505Z",
     "shell.execute_reply": "2023-04-29T04:45:35.445293Z"
    },
    "papermill": {
     "duration": 14.133544,
     "end_time": "2023-04-29T04:45:35.449103",
     "exception": false,
     "start_time": "2023-04-29T04:45:21.315559",
     "status": "completed"
    },
    "tags": []
   },
   "outputs": [
    {
     "name": "stdout",
     "output_type": "stream",
     "text": [
      "Collecting fastparquet\r\n",
      "  Downloading fastparquet-0.8.1-cp37-cp37m-manylinux_2_17_x86_64.manylinux2014_x86_64.whl (1.5 MB)\r\n",
      "\u001b[2K     \u001b[90m━━━━━━━━━━━━━━━━━━━━━━━━━━━━━━━━━━━━━━━━\u001b[0m \u001b[32m1.5/1.5 MB\u001b[0m \u001b[31m18.4 MB/s\u001b[0m eta \u001b[36m0:00:00\u001b[0m\r\n",
      "\u001b[?25hRequirement already satisfied: numpy>=1.18 in /opt/conda/lib/python3.7/site-packages (from fastparquet) (1.21.6)\r\n",
      "Collecting cramjam>=2.3.0\r\n",
      "  Downloading cramjam-2.6.2-cp37-cp37m-manylinux_2_17_x86_64.manylinux2014_x86_64.whl (2.0 MB)\r\n",
      "\u001b[2K     \u001b[90m━━━━━━━━━━━━━━━━━━━━━━━━━━━━━━━━━━━━━━━━\u001b[0m \u001b[32m2.0/2.0 MB\u001b[0m \u001b[31m62.4 MB/s\u001b[0m eta \u001b[36m0:00:00\u001b[0m\r\n",
      "\u001b[?25hRequirement already satisfied: fsspec in /opt/conda/lib/python3.7/site-packages (from fastparquet) (2023.1.0)\r\n",
      "Requirement already satisfied: pandas>=1.1.0 in /opt/conda/lib/python3.7/site-packages (from fastparquet) (1.3.5)\r\n",
      "Requirement already satisfied: python-dateutil>=2.7.3 in /opt/conda/lib/python3.7/site-packages (from pandas>=1.1.0->fastparquet) (2.8.2)\r\n",
      "Requirement already satisfied: pytz>=2017.3 in /opt/conda/lib/python3.7/site-packages (from pandas>=1.1.0->fastparquet) (2022.1)\r\n",
      "Requirement already satisfied: six>=1.5 in /opt/conda/lib/python3.7/site-packages (from python-dateutil>=2.7.3->pandas>=1.1.0->fastparquet) (1.15.0)\r\n",
      "Installing collected packages: cramjam, fastparquet\r\n",
      "Successfully installed cramjam-2.6.2 fastparquet-0.8.1\r\n",
      "\u001b[33mWARNING: Running pip as the 'root' user can result in broken permissions and conflicting behaviour with the system package manager. It is recommended to use a virtual environment instead: https://pip.pypa.io/warnings/venv\u001b[0m\u001b[33m\r\n",
      "\u001b[0m"
     ]
    }
   ],
   "source": [
    "!pip install fastparquet"
   ]
  },
  {
   "cell_type": "code",
   "execution_count": 3,
   "id": "e953dead",
   "metadata": {
    "execution": {
     "iopub.execute_input": "2023-04-29T04:45:35.485230Z",
     "iopub.status.busy": "2023-04-29T04:45:35.484780Z",
     "iopub.status.idle": "2023-04-29T04:45:35.490386Z",
     "shell.execute_reply": "2023-04-29T04:45:35.489234Z"
    },
    "papermill": {
     "duration": 0.026319,
     "end_time": "2023-04-29T04:45:35.492667",
     "exception": false,
     "start_time": "2023-04-29T04:45:35.466348",
     "status": "completed"
    },
    "tags": []
   },
   "outputs": [],
   "source": [
    "import pandas as pd"
   ]
  },
  {
   "cell_type": "code",
   "execution_count": 4,
   "id": "4b8ede1c",
   "metadata": {
    "execution": {
     "iopub.execute_input": "2023-04-29T04:45:35.528211Z",
     "iopub.status.busy": "2023-04-29T04:45:35.527765Z",
     "iopub.status.idle": "2023-04-29T04:45:35.666940Z",
     "shell.execute_reply": "2023-04-29T04:45:35.665783Z"
    },
    "papermill": {
     "duration": 0.160347,
     "end_time": "2023-04-29T04:45:35.669740",
     "exception": false,
     "start_time": "2023-04-29T04:45:35.509393",
     "status": "completed"
    },
    "tags": []
   },
   "outputs": [],
   "source": [
    "from fastparquet import ParquetFile"
   ]
  },
  {
   "cell_type": "code",
   "execution_count": 5,
   "id": "3d421244",
   "metadata": {
    "execution": {
     "iopub.execute_input": "2023-04-29T04:45:35.705980Z",
     "iopub.status.busy": "2023-04-29T04:45:35.705587Z",
     "iopub.status.idle": "2023-04-29T04:45:40.864926Z",
     "shell.execute_reply": "2023-04-29T04:45:40.863849Z"
    },
    "papermill": {
     "duration": 5.180763,
     "end_time": "2023-04-29T04:45:40.867751",
     "exception": false,
     "start_time": "2023-04-29T04:45:35.686988",
     "status": "completed"
    },
    "tags": []
   },
   "outputs": [],
   "source": [
    "pf = ParquetFile(\"/kaggle/input/icecube-neutrinos-in-deep-ice/train/batch_1.parquet\")\n",
    "b1df=pf.to_pandas()"
   ]
  },
  {
   "cell_type": "code",
   "execution_count": 6,
   "id": "310b9e6b",
   "metadata": {
    "execution": {
     "iopub.execute_input": "2023-04-29T04:45:40.905361Z",
     "iopub.status.busy": "2023-04-29T04:45:40.904927Z",
     "iopub.status.idle": "2023-04-29T04:46:23.262252Z",
     "shell.execute_reply": "2023-04-29T04:46:23.261137Z"
    },
    "papermill": {
     "duration": 42.379423,
     "end_time": "2023-04-29T04:46:23.264970",
     "exception": false,
     "start_time": "2023-04-29T04:45:40.885547",
     "status": "completed"
    },
    "tags": []
   },
   "outputs": [],
   "source": [
    "tm = pd.read_parquet(\"/kaggle/input/icecube-neutrinos-in-deep-ice/train_meta.parquet\")"
   ]
  },
  {
   "cell_type": "code",
   "execution_count": 7,
   "id": "0bd6e2db",
   "metadata": {
    "execution": {
     "iopub.execute_input": "2023-04-29T04:46:23.301245Z",
     "iopub.status.busy": "2023-04-29T04:46:23.300548Z",
     "iopub.status.idle": "2023-04-29T04:46:23.320331Z",
     "shell.execute_reply": "2023-04-29T04:46:23.319211Z"
    },
    "papermill": {
     "duration": 0.040675,
     "end_time": "2023-04-29T04:46:23.322915",
     "exception": false,
     "start_time": "2023-04-29T04:46:23.282240",
     "status": "completed"
    },
    "tags": []
   },
   "outputs": [],
   "source": [
    "sensordf=pd.read_csv('/kaggle/input/icecube-neutrinos-in-deep-ice/sensor_geometry.csv')"
   ]
  },
  {
   "cell_type": "code",
   "execution_count": 8,
   "id": "e7b4809a",
   "metadata": {
    "execution": {
     "iopub.execute_input": "2023-04-29T04:46:23.358423Z",
     "iopub.status.busy": "2023-04-29T04:46:23.357971Z",
     "iopub.status.idle": "2023-04-29T04:46:24.486879Z",
     "shell.execute_reply": "2023-04-29T04:46:24.485914Z"
    },
    "papermill": {
     "duration": 1.149604,
     "end_time": "2023-04-29T04:46:24.489461",
     "exception": false,
     "start_time": "2023-04-29T04:46:23.339857",
     "status": "completed"
    },
    "tags": []
   },
   "outputs": [
    {
     "data": {
      "text/plain": [
       "1      200000\n",
       "435    200000\n",
       "437    200000\n",
       "438    200000\n",
       "439    200000\n",
       "        ...  \n",
       "221    200000\n",
       "222    200000\n",
       "223    200000\n",
       "224    200000\n",
       "660    153924\n",
       "Name: batch_id, Length: 660, dtype: int64"
      ]
     },
     "execution_count": 8,
     "metadata": {},
     "output_type": "execute_result"
    }
   ],
   "source": [
    "tm.batch_id.value_counts()"
   ]
  },
  {
   "cell_type": "code",
   "execution_count": 9,
   "id": "c9370baa",
   "metadata": {
    "execution": {
     "iopub.execute_input": "2023-04-29T04:46:24.529866Z",
     "iopub.status.busy": "2023-04-29T04:46:24.529103Z",
     "iopub.status.idle": "2023-04-29T04:46:24.560619Z",
     "shell.execute_reply": "2023-04-29T04:46:24.559357Z"
    },
    "papermill": {
     "duration": 0.052978,
     "end_time": "2023-04-29T04:46:24.563248",
     "exception": false,
     "start_time": "2023-04-29T04:46:24.510270",
     "status": "completed"
    },
    "tags": []
   },
   "outputs": [
    {
     "data": {
      "text/html": [
       "<div>\n",
       "<style scoped>\n",
       "    .dataframe tbody tr th:only-of-type {\n",
       "        vertical-align: middle;\n",
       "    }\n",
       "\n",
       "    .dataframe tbody tr th {\n",
       "        vertical-align: top;\n",
       "    }\n",
       "\n",
       "    .dataframe thead th {\n",
       "        text-align: right;\n",
       "    }\n",
       "</style>\n",
       "<table border=\"1\" class=\"dataframe\">\n",
       "  <thead>\n",
       "    <tr style=\"text-align: right;\">\n",
       "      <th></th>\n",
       "      <th>sensor_id</th>\n",
       "      <th>x</th>\n",
       "      <th>y</th>\n",
       "      <th>z</th>\n",
       "    </tr>\n",
       "  </thead>\n",
       "  <tbody>\n",
       "    <tr>\n",
       "      <th>count</th>\n",
       "      <td>5160.000000</td>\n",
       "      <td>5160.000000</td>\n",
       "      <td>5160.000000</td>\n",
       "      <td>5160.000000</td>\n",
       "    </tr>\n",
       "    <tr>\n",
       "      <th>mean</th>\n",
       "      <td>2579.500000</td>\n",
       "      <td>5.870829</td>\n",
       "      <td>-2.518609</td>\n",
       "      <td>-23.905766</td>\n",
       "    </tr>\n",
       "    <tr>\n",
       "      <th>std</th>\n",
       "      <td>1489.708025</td>\n",
       "      <td>285.151213</td>\n",
       "      <td>269.409729</td>\n",
       "      <td>296.456563</td>\n",
       "    </tr>\n",
       "    <tr>\n",
       "      <th>min</th>\n",
       "      <td>0.000000</td>\n",
       "      <td>-570.900000</td>\n",
       "      <td>-521.080000</td>\n",
       "      <td>-512.820000</td>\n",
       "    </tr>\n",
       "    <tr>\n",
       "      <th>25%</th>\n",
       "      <td>1289.750000</td>\n",
       "      <td>-224.090000</td>\n",
       "      <td>-209.070000</td>\n",
       "      <td>-283.200000</td>\n",
       "    </tr>\n",
       "    <tr>\n",
       "      <th>50%</th>\n",
       "      <td>2579.500000</td>\n",
       "      <td>16.990000</td>\n",
       "      <td>-6.055000</td>\n",
       "      <td>-35.115000</td>\n",
       "    </tr>\n",
       "    <tr>\n",
       "      <th>75%</th>\n",
       "      <td>3869.250000</td>\n",
       "      <td>224.580000</td>\n",
       "      <td>211.660000</td>\n",
       "      <td>228.557500</td>\n",
       "    </tr>\n",
       "    <tr>\n",
       "      <th>max</th>\n",
       "      <td>5159.000000</td>\n",
       "      <td>576.370000</td>\n",
       "      <td>509.500000</td>\n",
       "      <td>524.560000</td>\n",
       "    </tr>\n",
       "  </tbody>\n",
       "</table>\n",
       "</div>"
      ],
      "text/plain": [
       "         sensor_id            x            y            z\n",
       "count  5160.000000  5160.000000  5160.000000  5160.000000\n",
       "mean   2579.500000     5.870829    -2.518609   -23.905766\n",
       "std    1489.708025   285.151213   269.409729   296.456563\n",
       "min       0.000000  -570.900000  -521.080000  -512.820000\n",
       "25%    1289.750000  -224.090000  -209.070000  -283.200000\n",
       "50%    2579.500000    16.990000    -6.055000   -35.115000\n",
       "75%    3869.250000   224.580000   211.660000   228.557500\n",
       "max    5159.000000   576.370000   509.500000   524.560000"
      ]
     },
     "execution_count": 9,
     "metadata": {},
     "output_type": "execute_result"
    }
   ],
   "source": [
    "sensordf.describe()"
   ]
  },
  {
   "cell_type": "code",
   "execution_count": 10,
   "id": "c5823409",
   "metadata": {
    "execution": {
     "iopub.execute_input": "2023-04-29T04:46:24.599718Z",
     "iopub.status.busy": "2023-04-29T04:46:24.599321Z",
     "iopub.status.idle": "2023-04-29T04:46:24.604210Z",
     "shell.execute_reply": "2023-04-29T04:46:24.603045Z"
    },
    "papermill": {
     "duration": 0.026052,
     "end_time": "2023-04-29T04:46:24.606519",
     "exception": false,
     "start_time": "2023-04-29T04:46:24.580467",
     "status": "completed"
    },
    "tags": []
   },
   "outputs": [],
   "source": [
    "import matplotlib.pyplot as plt"
   ]
  },
  {
   "cell_type": "code",
   "execution_count": 11,
   "id": "0e9bd957",
   "metadata": {
    "execution": {
     "iopub.execute_input": "2023-04-29T04:46:24.642954Z",
     "iopub.status.busy": "2023-04-29T04:46:24.642088Z",
     "iopub.status.idle": "2023-04-29T04:46:35.802306Z",
     "shell.execute_reply": "2023-04-29T04:46:35.800456Z"
    },
    "papermill": {
     "duration": 11.181351,
     "end_time": "2023-04-29T04:46:35.805072",
     "exception": false,
     "start_time": "2023-04-29T04:46:24.623721",
     "status": "completed"
    },
    "tags": []
   },
   "outputs": [
    {
     "name": "stdout",
     "output_type": "stream",
     "text": [
      "Requirement already satisfied: scipy in /opt/conda/lib/python3.7/site-packages (1.7.3)\r\n",
      "Requirement already satisfied: numpy<1.23.0,>=1.16.5 in /opt/conda/lib/python3.7/site-packages (from scipy) (1.21.6)\r\n",
      "\u001b[33mWARNING: Running pip as the 'root' user can result in broken permissions and conflicting behaviour with the system package manager. It is recommended to use a virtual environment instead: https://pip.pypa.io/warnings/venv\u001b[0m\u001b[33m\r\n",
      "\u001b[0mNote: you may need to restart the kernel to use updated packages.\n"
     ]
    }
   ],
   "source": [
    "pip install scipy"
   ]
  },
  {
   "cell_type": "code",
   "execution_count": 12,
   "id": "0e3321ed",
   "metadata": {
    "execution": {
     "iopub.execute_input": "2023-04-29T04:46:35.842811Z",
     "iopub.status.busy": "2023-04-29T04:46:35.842342Z",
     "iopub.status.idle": "2023-04-29T04:46:35.876970Z",
     "shell.execute_reply": "2023-04-29T04:46:35.875564Z"
    },
    "papermill": {
     "duration": 0.057071,
     "end_time": "2023-04-29T04:46:35.879871",
     "exception": false,
     "start_time": "2023-04-29T04:46:35.822800",
     "status": "completed"
    },
    "tags": []
   },
   "outputs": [],
   "source": [
    "import scipy"
   ]
  },
  {
   "cell_type": "code",
   "execution_count": 13,
   "id": "5108f271",
   "metadata": {
    "execution": {
     "iopub.execute_input": "2023-04-29T04:46:35.917705Z",
     "iopub.status.busy": "2023-04-29T04:46:35.917280Z",
     "iopub.status.idle": "2023-04-29T04:46:36.139895Z",
     "shell.execute_reply": "2023-04-29T04:46:36.138792Z"
    },
    "papermill": {
     "duration": 0.244301,
     "end_time": "2023-04-29T04:46:36.142500",
     "exception": false,
     "start_time": "2023-04-29T04:46:35.898199",
     "status": "completed"
    },
    "tags": []
   },
   "outputs": [],
   "source": [
    "from scipy.special import huber"
   ]
  },
  {
   "cell_type": "code",
   "execution_count": 14,
   "id": "7fa0163b",
   "metadata": {
    "execution": {
     "iopub.execute_input": "2023-04-29T04:46:36.179796Z",
     "iopub.status.busy": "2023-04-29T04:46:36.178980Z",
     "iopub.status.idle": "2023-04-29T04:46:36.322887Z",
     "shell.execute_reply": "2023-04-29T04:46:36.321562Z"
    },
    "papermill": {
     "duration": 0.165915,
     "end_time": "2023-04-29T04:46:36.325869",
     "exception": false,
     "start_time": "2023-04-29T04:46:36.159954",
     "status": "completed"
    },
    "tags": []
   },
   "outputs": [],
   "source": [
    "b1df['elapsed_time']=b1df['time']-5928"
   ]
  },
  {
   "cell_type": "code",
   "execution_count": 15,
   "id": "48d40ffc",
   "metadata": {
    "execution": {
     "iopub.execute_input": "2023-04-29T04:46:36.363068Z",
     "iopub.status.busy": "2023-04-29T04:46:36.362650Z",
     "iopub.status.idle": "2023-04-29T04:46:36.513583Z",
     "shell.execute_reply": "2023-04-29T04:46:36.512334Z"
    },
    "papermill": {
     "duration": 0.172756,
     "end_time": "2023-04-29T04:46:36.516442",
     "exception": false,
     "start_time": "2023-04-29T04:46:36.343686",
     "status": "completed"
    },
    "tags": []
   },
   "outputs": [],
   "source": [
    "b1df['vel_dist']=1.58*(0.1)*b1df['elapsed_time']"
   ]
  },
  {
   "cell_type": "code",
   "execution_count": 16,
   "id": "b7a7b9e7",
   "metadata": {
    "execution": {
     "iopub.execute_input": "2023-04-29T04:46:36.553760Z",
     "iopub.status.busy": "2023-04-29T04:46:36.553080Z",
     "iopub.status.idle": "2023-04-29T04:46:37.384828Z",
     "shell.execute_reply": "2023-04-29T04:46:37.383610Z"
    },
    "papermill": {
     "duration": 0.853626,
     "end_time": "2023-04-29T04:46:37.387562",
     "exception": false,
     "start_time": "2023-04-29T04:46:36.533936",
     "status": "completed"
    },
    "tags": []
   },
   "outputs": [],
   "source": [
    "import sklearn"
   ]
  },
  {
   "cell_type": "code",
   "execution_count": 17,
   "id": "83d99b9a",
   "metadata": {
    "execution": {
     "iopub.execute_input": "2023-04-29T04:46:37.424225Z",
     "iopub.status.busy": "2023-04-29T04:46:37.423839Z",
     "iopub.status.idle": "2023-04-29T04:46:37.654847Z",
     "shell.execute_reply": "2023-04-29T04:46:37.653622Z"
    },
    "papermill": {
     "duration": 0.252336,
     "end_time": "2023-04-29T04:46:37.657556",
     "exception": false,
     "start_time": "2023-04-29T04:46:37.405220",
     "status": "completed"
    },
    "tags": []
   },
   "outputs": [],
   "source": [
    "r=list(dict(b1df.sensor_id.value_counts()))"
   ]
  },
  {
   "cell_type": "code",
   "execution_count": 18,
   "id": "06731fdc",
   "metadata": {
    "execution": {
     "iopub.execute_input": "2023-04-29T04:46:37.694598Z",
     "iopub.status.busy": "2023-04-29T04:46:37.693475Z",
     "iopub.status.idle": "2023-04-29T04:46:37.914435Z",
     "shell.execute_reply": "2023-04-29T04:46:37.913229Z"
    },
    "papermill": {
     "duration": 0.242511,
     "end_time": "2023-04-29T04:46:37.917331",
     "exception": false,
     "start_time": "2023-04-29T04:46:37.674820",
     "status": "completed"
    },
    "tags": []
   },
   "outputs": [],
   "source": [
    "from sklearn.linear_model import HuberRegressor\n",
    "from sklearn.datasets import make_regression"
   ]
  },
  {
   "cell_type": "code",
   "execution_count": 19,
   "id": "c0631ea9",
   "metadata": {
    "execution": {
     "iopub.execute_input": "2023-04-29T04:46:37.954883Z",
     "iopub.status.busy": "2023-04-29T04:46:37.954193Z",
     "iopub.status.idle": "2023-04-29T04:46:37.962458Z",
     "shell.execute_reply": "2023-04-29T04:46:37.961430Z"
    },
    "papermill": {
     "duration": 0.029706,
     "end_time": "2023-04-29T04:46:37.964736",
     "exception": false,
     "start_time": "2023-04-29T04:46:37.935030",
     "status": "completed"
    },
    "tags": []
   },
   "outputs": [],
   "source": [
    "def predangle(df):\n",
    "    p=[]\n",
    "    p1c=np.cov(df['z'],df['x'])\n",
    "    a1=p1c[0][1]/p1c[0][0]\n",
    "    p2c=np.cov(df['z'],df['y'])\n",
    "    a2=p2c[0][1]/p2c[0][0]\n",
    "    d=np.sqrt(1+a1**2+a2**2)\n",
    "    azimuth=np.arctan2(a2,a1)\n",
    "    if azimuth<0:\n",
    "        azimuth=2*np.pi+azimuth\n",
    "    zenith=np.arccos(1/d)\n",
    "    p.append([azimuth,zenith])\n",
    "    return p"
   ]
  },
  {
   "cell_type": "code",
   "execution_count": 20,
   "id": "172768ea",
   "metadata": {
    "execution": {
     "iopub.execute_input": "2023-04-29T04:46:38.001958Z",
     "iopub.status.busy": "2023-04-29T04:46:38.001267Z",
     "iopub.status.idle": "2023-04-29T04:46:38.017312Z",
     "shell.execute_reply": "2023-04-29T04:46:38.016413Z"
    },
    "papermill": {
     "duration": 0.037519,
     "end_time": "2023-04-29T04:46:38.019760",
     "exception": false,
     "start_time": "2023-04-29T04:46:37.982241",
     "status": "completed"
    },
    "tags": []
   },
   "outputs": [],
   "source": [
    "testdf=ParquetFile('/kaggle/input/icecube-neutrinos-in-deep-ice/test_meta.parquet')\n",
    "testdata=testdf.to_pandas()"
   ]
  },
  {
   "cell_type": "code",
   "execution_count": 21,
   "id": "c7191b49",
   "metadata": {
    "execution": {
     "iopub.execute_input": "2023-04-29T04:46:38.057494Z",
     "iopub.status.busy": "2023-04-29T04:46:38.056327Z",
     "iopub.status.idle": "2023-04-29T04:46:38.068765Z",
     "shell.execute_reply": "2023-04-29T04:46:38.067580Z"
    },
    "papermill": {
     "duration": 0.033766,
     "end_time": "2023-04-29T04:46:38.071234",
     "exception": false,
     "start_time": "2023-04-29T04:46:38.037468",
     "status": "completed"
    },
    "tags": []
   },
   "outputs": [
    {
     "data": {
      "text/html": [
       "<div>\n",
       "<style scoped>\n",
       "    .dataframe tbody tr th:only-of-type {\n",
       "        vertical-align: middle;\n",
       "    }\n",
       "\n",
       "    .dataframe tbody tr th {\n",
       "        vertical-align: top;\n",
       "    }\n",
       "\n",
       "    .dataframe thead th {\n",
       "        text-align: right;\n",
       "    }\n",
       "</style>\n",
       "<table border=\"1\" class=\"dataframe\">\n",
       "  <thead>\n",
       "    <tr style=\"text-align: right;\">\n",
       "      <th></th>\n",
       "      <th>batch_id</th>\n",
       "      <th>event_id</th>\n",
       "      <th>first_pulse_index</th>\n",
       "      <th>last_pulse_index</th>\n",
       "    </tr>\n",
       "  </thead>\n",
       "  <tbody>\n",
       "    <tr>\n",
       "      <th>0</th>\n",
       "      <td>661</td>\n",
       "      <td>2092</td>\n",
       "      <td>0</td>\n",
       "      <td>298</td>\n",
       "    </tr>\n",
       "    <tr>\n",
       "      <th>1</th>\n",
       "      <td>661</td>\n",
       "      <td>7344</td>\n",
       "      <td>299</td>\n",
       "      <td>334</td>\n",
       "    </tr>\n",
       "    <tr>\n",
       "      <th>2</th>\n",
       "      <td>661</td>\n",
       "      <td>9482</td>\n",
       "      <td>335</td>\n",
       "      <td>377</td>\n",
       "    </tr>\n",
       "  </tbody>\n",
       "</table>\n",
       "</div>"
      ],
      "text/plain": [
       "   batch_id  event_id  first_pulse_index  last_pulse_index\n",
       "0       661      2092                  0               298\n",
       "1       661      7344                299               334\n",
       "2       661      9482                335               377"
      ]
     },
     "execution_count": 21,
     "metadata": {},
     "output_type": "execute_result"
    }
   ],
   "source": [
    "testdata"
   ]
  },
  {
   "cell_type": "code",
   "execution_count": 22,
   "id": "2b9c0703",
   "metadata": {
    "execution": {
     "iopub.execute_input": "2023-04-29T04:46:38.112406Z",
     "iopub.status.busy": "2023-04-29T04:46:38.111362Z",
     "iopub.status.idle": "2023-04-29T04:46:38.119814Z",
     "shell.execute_reply": "2023-04-29T04:46:38.118950Z"
    },
    "papermill": {
     "duration": 0.03244,
     "end_time": "2023-04-29T04:46:38.121955",
     "exception": false,
     "start_time": "2023-04-29T04:46:38.089515",
     "status": "completed"
    },
    "tags": []
   },
   "outputs": [],
   "source": [
    "event5=5\n",
    "event5_pulse_info=b1df.iloc[tm.iloc[event5].first_pulse_index.astype(int):tm.iloc[event5].last_pulse_index.astype(int)+1].copy()"
   ]
  },
  {
   "cell_type": "code",
   "execution_count": 23,
   "id": "31d811c3",
   "metadata": {
    "execution": {
     "iopub.execute_input": "2023-04-29T04:46:38.169237Z",
     "iopub.status.busy": "2023-04-29T04:46:38.168382Z",
     "iopub.status.idle": "2023-04-29T04:46:38.185891Z",
     "shell.execute_reply": "2023-04-29T04:46:38.184382Z"
    },
    "papermill": {
     "duration": 0.046918,
     "end_time": "2023-04-29T04:46:38.189118",
     "exception": false,
     "start_time": "2023-04-29T04:46:38.142200",
     "status": "completed"
    },
    "tags": []
   },
   "outputs": [
    {
     "data": {
      "text/html": [
       "<div>\n",
       "<style scoped>\n",
       "    .dataframe tbody tr th:only-of-type {\n",
       "        vertical-align: middle;\n",
       "    }\n",
       "\n",
       "    .dataframe tbody tr th {\n",
       "        vertical-align: top;\n",
       "    }\n",
       "\n",
       "    .dataframe thead th {\n",
       "        text-align: right;\n",
       "    }\n",
       "</style>\n",
       "<table border=\"1\" class=\"dataframe\">\n",
       "  <thead>\n",
       "    <tr style=\"text-align: right;\">\n",
       "      <th></th>\n",
       "      <th>sensor_id</th>\n",
       "      <th>time</th>\n",
       "      <th>charge</th>\n",
       "      <th>auxiliary</th>\n",
       "      <th>elapsed_time</th>\n",
       "      <th>vel_dist</th>\n",
       "    </tr>\n",
       "    <tr>\n",
       "      <th>event_id</th>\n",
       "      <th></th>\n",
       "      <th></th>\n",
       "      <th></th>\n",
       "      <th></th>\n",
       "      <th></th>\n",
       "      <th></th>\n",
       "    </tr>\n",
       "  </thead>\n",
       "  <tbody>\n",
       "    <tr>\n",
       "      <th>77</th>\n",
       "      <td>3196</td>\n",
       "      <td>5976</td>\n",
       "      <td>0.825</td>\n",
       "      <td>True</td>\n",
       "      <td>48</td>\n",
       "      <td>7.584</td>\n",
       "    </tr>\n",
       "    <tr>\n",
       "      <th>77</th>\n",
       "      <td>724</td>\n",
       "      <td>6537</td>\n",
       "      <td>1.075</td>\n",
       "      <td>True</td>\n",
       "      <td>609</td>\n",
       "      <td>96.222</td>\n",
       "    </tr>\n",
       "    <tr>\n",
       "      <th>77</th>\n",
       "      <td>4967</td>\n",
       "      <td>6648</td>\n",
       "      <td>0.375</td>\n",
       "      <td>True</td>\n",
       "      <td>720</td>\n",
       "      <td>113.760</td>\n",
       "    </tr>\n",
       "    <tr>\n",
       "      <th>77</th>\n",
       "      <td>1165</td>\n",
       "      <td>6687</td>\n",
       "      <td>0.675</td>\n",
       "      <td>True</td>\n",
       "      <td>759</td>\n",
       "      <td>119.922</td>\n",
       "    </tr>\n",
       "    <tr>\n",
       "      <th>77</th>\n",
       "      <td>4974</td>\n",
       "      <td>6901</td>\n",
       "      <td>0.375</td>\n",
       "      <td>True</td>\n",
       "      <td>973</td>\n",
       "      <td>153.734</td>\n",
       "    </tr>\n",
       "  </tbody>\n",
       "</table>\n",
       "</div>"
      ],
      "text/plain": [
       "          sensor_id  time  charge  auxiliary  elapsed_time  vel_dist\n",
       "event_id                                                            \n",
       "77             3196  5976   0.825       True            48     7.584\n",
       "77              724  6537   1.075       True           609    96.222\n",
       "77             4967  6648   0.375       True           720   113.760\n",
       "77             1165  6687   0.675       True           759   119.922\n",
       "77             4974  6901   0.375       True           973   153.734"
      ]
     },
     "execution_count": 23,
     "metadata": {},
     "output_type": "execute_result"
    }
   ],
   "source": [
    "event5_pulse_info.head()"
   ]
  },
  {
   "cell_type": "code",
   "execution_count": 24,
   "id": "e8440a0d",
   "metadata": {
    "execution": {
     "iopub.execute_input": "2023-04-29T04:46:38.228061Z",
     "iopub.status.busy": "2023-04-29T04:46:38.226990Z",
     "iopub.status.idle": "2023-04-29T04:46:38.237331Z",
     "shell.execute_reply": "2023-04-29T04:46:38.236320Z"
    },
    "papermill": {
     "duration": 0.031991,
     "end_time": "2023-04-29T04:46:38.239787",
     "exception": false,
     "start_time": "2023-04-29T04:46:38.207796",
     "status": "completed"
    },
    "tags": []
   },
   "outputs": [],
   "source": [
    "event5_pulse_info = event5_pulse_info.reset_index()\n",
    "event5_pulse_info[['x', 'y', 'z']] = sensordf.loc[event5_pulse_info.sensor_id].reset_index()[['x','y','z']]\n"
   ]
  },
  {
   "cell_type": "code",
   "execution_count": 25,
   "id": "90f5a5ec",
   "metadata": {
    "execution": {
     "iopub.execute_input": "2023-04-29T04:46:38.277684Z",
     "iopub.status.busy": "2023-04-29T04:46:38.277285Z",
     "iopub.status.idle": "2023-04-29T04:46:38.293904Z",
     "shell.execute_reply": "2023-04-29T04:46:38.292584Z"
    },
    "papermill": {
     "duration": 0.0381,
     "end_time": "2023-04-29T04:46:38.296367",
     "exception": false,
     "start_time": "2023-04-29T04:46:38.258267",
     "status": "completed"
    },
    "tags": []
   },
   "outputs": [
    {
     "data": {
      "text/html": [
       "<div>\n",
       "<style scoped>\n",
       "    .dataframe tbody tr th:only-of-type {\n",
       "        vertical-align: middle;\n",
       "    }\n",
       "\n",
       "    .dataframe tbody tr th {\n",
       "        vertical-align: top;\n",
       "    }\n",
       "\n",
       "    .dataframe thead th {\n",
       "        text-align: right;\n",
       "    }\n",
       "</style>\n",
       "<table border=\"1\" class=\"dataframe\">\n",
       "  <thead>\n",
       "    <tr style=\"text-align: right;\">\n",
       "      <th></th>\n",
       "      <th>event_id</th>\n",
       "      <th>sensor_id</th>\n",
       "      <th>time</th>\n",
       "      <th>charge</th>\n",
       "      <th>auxiliary</th>\n",
       "      <th>elapsed_time</th>\n",
       "      <th>vel_dist</th>\n",
       "      <th>x</th>\n",
       "      <th>y</th>\n",
       "      <th>z</th>\n",
       "    </tr>\n",
       "  </thead>\n",
       "  <tbody>\n",
       "    <tr>\n",
       "      <th>0</th>\n",
       "      <td>77</td>\n",
       "      <td>3196</td>\n",
       "      <td>5976</td>\n",
       "      <td>0.825</td>\n",
       "      <td>True</td>\n",
       "      <td>48</td>\n",
       "      <td>7.584</td>\n",
       "      <td>-111.51</td>\n",
       "      <td>159.98</td>\n",
       "      <td>228.20</td>\n",
       "    </tr>\n",
       "    <tr>\n",
       "      <th>1</th>\n",
       "      <td>77</td>\n",
       "      <td>724</td>\n",
       "      <td>6537</td>\n",
       "      <td>1.075</td>\n",
       "      <td>True</td>\n",
       "      <td>609</td>\n",
       "      <td>96.222</td>\n",
       "      <td>405.83</td>\n",
       "      <td>-306.38</td>\n",
       "      <td>427.05</td>\n",
       "    </tr>\n",
       "    <tr>\n",
       "      <th>2</th>\n",
       "      <td>77</td>\n",
       "      <td>4967</td>\n",
       "      <td>6648</td>\n",
       "      <td>0.375</td>\n",
       "      <td>True</td>\n",
       "      <td>720</td>\n",
       "      <td>113.760</td>\n",
       "      <td>113.19</td>\n",
       "      <td>-60.47</td>\n",
       "      <td>-420.42</td>\n",
       "    </tr>\n",
       "    <tr>\n",
       "      <th>3</th>\n",
       "      <td>77</td>\n",
       "      <td>1165</td>\n",
       "      <td>6687</td>\n",
       "      <td>0.675</td>\n",
       "      <td>True</td>\n",
       "      <td>759</td>\n",
       "      <td>119.922</td>\n",
       "      <td>326.85</td>\n",
       "      <td>-209.07</td>\n",
       "      <td>72.91</td>\n",
       "    </tr>\n",
       "    <tr>\n",
       "      <th>4</th>\n",
       "      <td>77</td>\n",
       "      <td>4974</td>\n",
       "      <td>6901</td>\n",
       "      <td>0.375</td>\n",
       "      <td>True</td>\n",
       "      <td>973</td>\n",
       "      <td>153.734</td>\n",
       "      <td>113.19</td>\n",
       "      <td>-60.47</td>\n",
       "      <td>-469.48</td>\n",
       "    </tr>\n",
       "  </tbody>\n",
       "</table>\n",
       "</div>"
      ],
      "text/plain": [
       "   event_id  sensor_id  time  charge  auxiliary  elapsed_time  vel_dist  \\\n",
       "0        77       3196  5976   0.825       True            48     7.584   \n",
       "1        77        724  6537   1.075       True           609    96.222   \n",
       "2        77       4967  6648   0.375       True           720   113.760   \n",
       "3        77       1165  6687   0.675       True           759   119.922   \n",
       "4        77       4974  6901   0.375       True           973   153.734   \n",
       "\n",
       "        x       y       z  \n",
       "0 -111.51  159.98  228.20  \n",
       "1  405.83 -306.38  427.05  \n",
       "2  113.19  -60.47 -420.42  \n",
       "3  326.85 -209.07   72.91  \n",
       "4  113.19  -60.47 -469.48  "
      ]
     },
     "execution_count": 25,
     "metadata": {},
     "output_type": "execute_result"
    }
   ],
   "source": [
    "event5_pulse_info.head()"
   ]
  },
  {
   "cell_type": "code",
   "execution_count": 26,
   "id": "a8d4a235",
   "metadata": {
    "execution": {
     "iopub.execute_input": "2023-04-29T04:46:38.334761Z",
     "iopub.status.busy": "2023-04-29T04:46:38.333819Z",
     "iopub.status.idle": "2023-04-29T04:46:38.345292Z",
     "shell.execute_reply": "2023-04-29T04:46:38.344232Z"
    },
    "papermill": {
     "duration": 0.03355,
     "end_time": "2023-04-29T04:46:38.347943",
     "exception": false,
     "start_time": "2023-04-29T04:46:38.314393",
     "status": "completed"
    },
    "tags": []
   },
   "outputs": [],
   "source": [
    "p_angle=predangle(event5_pulse_info)"
   ]
  },
  {
   "cell_type": "code",
   "execution_count": 27,
   "id": "926574b0",
   "metadata": {
    "execution": {
     "iopub.execute_input": "2023-04-29T04:46:38.386395Z",
     "iopub.status.busy": "2023-04-29T04:46:38.385493Z",
     "iopub.status.idle": "2023-04-29T04:46:38.392782Z",
     "shell.execute_reply": "2023-04-29T04:46:38.391817Z"
    },
    "papermill": {
     "duration": 0.028889,
     "end_time": "2023-04-29T04:46:38.394985",
     "exception": false,
     "start_time": "2023-04-29T04:46:38.366096",
     "status": "completed"
    },
    "tags": []
   },
   "outputs": [
    {
     "data": {
      "text/plain": [
       "[[2.09795086092426, 0.23583205960557974]]"
      ]
     },
     "execution_count": 27,
     "metadata": {},
     "output_type": "execute_result"
    }
   ],
   "source": [
    "p_angle"
   ]
  },
  {
   "cell_type": "code",
   "execution_count": 28,
   "id": "3225abfa",
   "metadata": {
    "execution": {
     "iopub.execute_input": "2023-04-29T04:46:38.433603Z",
     "iopub.status.busy": "2023-04-29T04:46:38.432629Z",
     "iopub.status.idle": "2023-04-29T04:46:38.438264Z",
     "shell.execute_reply": "2023-04-29T04:46:38.437321Z"
    },
    "papermill": {
     "duration": 0.027388,
     "end_time": "2023-04-29T04:46:38.440669",
     "exception": false,
     "start_time": "2023-04-29T04:46:38.413281",
     "status": "completed"
    },
    "tags": []
   },
   "outputs": [],
   "source": [
    "def errorpred(true_az,pred_az,true_zen,pred_zen):\n",
    "    e=[]\n",
    "    da=abs(true_az-pred_az)\n",
    "    db=abs(true_zen-pred_zen)\n",
    "    e.append(da)\n",
    "    e.append(db)\n",
    "    return e"
   ]
  },
  {
   "cell_type": "code",
   "execution_count": 29,
   "id": "82e40f0c",
   "metadata": {
    "execution": {
     "iopub.execute_input": "2023-04-29T04:46:38.479963Z",
     "iopub.status.busy": "2023-04-29T04:46:38.479534Z",
     "iopub.status.idle": "2023-04-29T04:46:38.484801Z",
     "shell.execute_reply": "2023-04-29T04:46:38.483810Z"
    },
    "papermill": {
     "duration": 0.027607,
     "end_time": "2023-04-29T04:46:38.486885",
     "exception": false,
     "start_time": "2023-04-29T04:46:38.459278",
     "status": "completed"
    },
    "tags": []
   },
   "outputs": [],
   "source": [
    "e=errorpred(tm['azimuth'][event5],p_angle[0][0],tm['zenith'][event5],p_angle[0][1])"
   ]
  },
  {
   "cell_type": "code",
   "execution_count": 30,
   "id": "599d837e",
   "metadata": {
    "execution": {
     "iopub.execute_input": "2023-04-29T04:46:38.525489Z",
     "iopub.status.busy": "2023-04-29T04:46:38.524687Z",
     "iopub.status.idle": "2023-04-29T04:46:38.531284Z",
     "shell.execute_reply": "2023-04-29T04:46:38.530091Z"
    },
    "papermill": {
     "duration": 0.028405,
     "end_time": "2023-04-29T04:46:38.533517",
     "exception": false,
     "start_time": "2023-04-29T04:46:38.505112",
     "status": "completed"
    },
    "tags": []
   },
   "outputs": [
    {
     "data": {
      "text/plain": [
       "[2.0865793485351247, 1.0595386941772862]"
      ]
     },
     "execution_count": 30,
     "metadata": {},
     "output_type": "execute_result"
    }
   ],
   "source": [
    "e"
   ]
  },
  {
   "cell_type": "code",
   "execution_count": 31,
   "id": "0f160e7d",
   "metadata": {
    "execution": {
     "iopub.execute_input": "2023-04-29T04:46:38.572502Z",
     "iopub.status.busy": "2023-04-29T04:46:38.571240Z",
     "iopub.status.idle": "2023-04-29T04:46:38.796058Z",
     "shell.execute_reply": "2023-04-29T04:46:38.794620Z"
    },
    "papermill": {
     "duration": 0.246888,
     "end_time": "2023-04-29T04:46:38.798655",
     "exception": false,
     "start_time": "2023-04-29T04:46:38.551767",
     "status": "completed"
    },
    "tags": []
   },
   "outputs": [
    {
     "data": {
      "text/plain": [
       "False    23551893\n",
       "True      9240523\n",
       "Name: auxiliary, dtype: int64"
      ]
     },
     "execution_count": 31,
     "metadata": {},
     "output_type": "execute_result"
    }
   ],
   "source": [
    "b1df.auxiliary.value_counts()"
   ]
  },
  {
   "cell_type": "code",
   "execution_count": 32,
   "id": "54824278",
   "metadata": {
    "execution": {
     "iopub.execute_input": "2023-04-29T04:46:38.837543Z",
     "iopub.status.busy": "2023-04-29T04:46:38.836855Z",
     "iopub.status.idle": "2023-04-29T04:46:38.849941Z",
     "shell.execute_reply": "2023-04-29T04:46:38.848678Z"
    },
    "papermill": {
     "duration": 0.035322,
     "end_time": "2023-04-29T04:46:38.852485",
     "exception": false,
     "start_time": "2023-04-29T04:46:38.817163",
     "status": "completed"
    },
    "tags": []
   },
   "outputs": [
    {
     "data": {
      "text/html": [
       "<div>\n",
       "<style scoped>\n",
       "    .dataframe tbody tr th:only-of-type {\n",
       "        vertical-align: middle;\n",
       "    }\n",
       "\n",
       "    .dataframe tbody tr th {\n",
       "        vertical-align: top;\n",
       "    }\n",
       "\n",
       "    .dataframe thead th {\n",
       "        text-align: right;\n",
       "    }\n",
       "</style>\n",
       "<table border=\"1\" class=\"dataframe\">\n",
       "  <thead>\n",
       "    <tr style=\"text-align: right;\">\n",
       "      <th></th>\n",
       "      <th>sensor_id</th>\n",
       "      <th>time</th>\n",
       "      <th>charge</th>\n",
       "      <th>auxiliary</th>\n",
       "      <th>elapsed_time</th>\n",
       "      <th>vel_dist</th>\n",
       "    </tr>\n",
       "    <tr>\n",
       "      <th>event_id</th>\n",
       "      <th></th>\n",
       "      <th></th>\n",
       "      <th></th>\n",
       "      <th></th>\n",
       "      <th></th>\n",
       "      <th></th>\n",
       "    </tr>\n",
       "  </thead>\n",
       "  <tbody>\n",
       "    <tr>\n",
       "      <th>3266196</th>\n",
       "      <td>1961</td>\n",
       "      <td>17617</td>\n",
       "      <td>0.975</td>\n",
       "      <td>True</td>\n",
       "      <td>11689</td>\n",
       "      <td>1846.862</td>\n",
       "    </tr>\n",
       "    <tr>\n",
       "      <th>3266196</th>\n",
       "      <td>36</td>\n",
       "      <td>17705</td>\n",
       "      <td>0.625</td>\n",
       "      <td>True</td>\n",
       "      <td>11777</td>\n",
       "      <td>1860.766</td>\n",
       "    </tr>\n",
       "    <tr>\n",
       "      <th>3266196</th>\n",
       "      <td>356</td>\n",
       "      <td>18192</td>\n",
       "      <td>0.725</td>\n",
       "      <td>True</td>\n",
       "      <td>12264</td>\n",
       "      <td>1937.712</td>\n",
       "    </tr>\n",
       "    <tr>\n",
       "      <th>3266196</th>\n",
       "      <td>2826</td>\n",
       "      <td>18609</td>\n",
       "      <td>0.575</td>\n",
       "      <td>True</td>\n",
       "      <td>12681</td>\n",
       "      <td>2003.598</td>\n",
       "    </tr>\n",
       "    <tr>\n",
       "      <th>3266196</th>\n",
       "      <td>5013</td>\n",
       "      <td>18741</td>\n",
       "      <td>1.375</td>\n",
       "      <td>True</td>\n",
       "      <td>12813</td>\n",
       "      <td>2024.454</td>\n",
       "    </tr>\n",
       "  </tbody>\n",
       "</table>\n",
       "</div>"
      ],
      "text/plain": [
       "          sensor_id   time  charge  auxiliary  elapsed_time  vel_dist\n",
       "event_id                                                             \n",
       "3266196        1961  17617   0.975       True         11689  1846.862\n",
       "3266196          36  17705   0.625       True         11777  1860.766\n",
       "3266196         356  18192   0.725       True         12264  1937.712\n",
       "3266196        2826  18609   0.575       True         12681  2003.598\n",
       "3266196        5013  18741   1.375       True         12813  2024.454"
      ]
     },
     "execution_count": 32,
     "metadata": {},
     "output_type": "execute_result"
    }
   ],
   "source": [
    "b1df.tail()"
   ]
  },
  {
   "cell_type": "markdown",
   "id": "432e6f6d",
   "metadata": {
    "papermill": {
     "duration": 0.018424,
     "end_time": "2023-04-29T04:46:38.890066",
     "exception": false,
     "start_time": "2023-04-29T04:46:38.871642",
     "status": "completed"
    },
    "tags": []
   },
   "source": [
    "Following the estimation of angle through the use of coordinates of sensors, a similar direction tracing through the overall distance covered in a batch of events would be understood. Each batch would have the estimated number of bouncing on the sensors followed from a muon hit and radiation emitted to obtain the looping."
   ]
  },
  {
   "cell_type": "markdown",
   "id": "cb1f7e9a",
   "metadata": {
    "papermill": {
     "duration": 0.018205,
     "end_time": "2023-04-29T04:46:38.926823",
     "exception": false,
     "start_time": "2023-04-29T04:46:38.908618",
     "status": "completed"
    },
    "tags": []
   },
   "source": []
  },
  {
   "cell_type": "code",
   "execution_count": 33,
   "id": "997a2684",
   "metadata": {
    "execution": {
     "iopub.execute_input": "2023-04-29T04:46:38.967686Z",
     "iopub.status.busy": "2023-04-29T04:46:38.966889Z",
     "iopub.status.idle": "2023-04-29T04:46:39.201636Z",
     "shell.execute_reply": "2023-04-29T04:46:39.200281Z"
    },
    "papermill": {
     "duration": 0.257513,
     "end_time": "2023-04-29T04:46:39.204242",
     "exception": false,
     "start_time": "2023-04-29T04:46:38.946729",
     "status": "completed"
    },
    "tags": []
   },
   "outputs": [
    {
     "data": {
      "text/plain": [
       "[<matplotlib.lines.Line2D at 0x754a368ab9d0>]"
      ]
     },
     "execution_count": 33,
     "metadata": {},
     "output_type": "execute_result"
    },
    {
     "data": {
      "image/png": "[encoded data removed]",
      "text/plain": [
       "<Figure size 432x288 with 1 Axes>"
      ]
     },
     "metadata": {
      "needs_background": "light"
     },
     "output_type": "display_data"
    }
   ],
   "source": [
    "plt.xlabel('Distance Travelled By Muon')\n",
    "plt.ylabel('Sensors bounced on')\n",
    "plt.plot(event5_pulse_info['vel_dist'],event5_pulse_info['sensor_id'], color=\"green\")"
   ]
  },
  {
   "cell_type": "code",
   "execution_count": 34,
   "id": "edc47734",
   "metadata": {
    "execution": {
     "iopub.execute_input": "2023-04-29T04:46:39.244668Z",
     "iopub.status.busy": "2023-04-29T04:46:39.244226Z",
     "iopub.status.idle": "2023-04-29T04:46:39.253478Z",
     "shell.execute_reply": "2023-04-29T04:46:39.252342Z"
    },
    "papermill": {
     "duration": 0.032077,
     "end_time": "2023-04-29T04:46:39.255839",
     "exception": false,
     "start_time": "2023-04-29T04:46:39.223762",
     "status": "completed"
    },
    "tags": []
   },
   "outputs": [],
   "source": [
    "def distcovered(df):\n",
    "    l=len(df)\n",
    "    dist=[]\n",
    "    for i in range(l-1):\n",
    "        p1=[df['x'][i+1],df['y'][i+1],df['z'][i+1]]\n",
    "        p2=[df['x'][i],df['y'][i],df['z'][i]]\n",
    "        dist.append(((((p2[0]-p1[0])**2)+((p2[1]-p1[1])**2)+((p2[2]-p1[2])**2))**0.5)+df['vel_dist'][i])\n",
    "    dist.append(df['vel_dist'][l-1])\n",
    "    return dist"
   ]
  },
  {
   "cell_type": "code",
   "execution_count": 35,
   "id": "9a71eb6d",
   "metadata": {
    "execution": {
     "iopub.execute_input": "2023-04-29T04:46:39.295999Z",
     "iopub.status.busy": "2023-04-29T04:46:39.295593Z",
     "iopub.status.idle": "2023-04-29T04:46:39.302735Z",
     "shell.execute_reply": "2023-04-29T04:46:39.301853Z"
    },
    "papermill": {
     "duration": 0.029604,
     "end_time": "2023-04-29T04:46:39.304796",
     "exception": false,
     "start_time": "2023-04-29T04:46:39.275192",
     "status": "completed"
    },
    "tags": []
   },
   "outputs": [],
   "source": [
    "d=distcovered(event5_pulse_info)"
   ]
  },
  {
   "cell_type": "code",
   "execution_count": 36,
   "id": "f1abab7c",
   "metadata": {
    "execution": {
     "iopub.execute_input": "2023-04-29T04:46:39.344983Z",
     "iopub.status.busy": "2023-04-29T04:46:39.344202Z",
     "iopub.status.idle": "2023-04-29T04:46:39.536286Z",
     "shell.execute_reply": "2023-04-29T04:46:39.535350Z"
    },
    "papermill": {
     "duration": 0.214609,
     "end_time": "2023-04-29T04:46:39.538572",
     "exception": false,
     "start_time": "2023-04-29T04:46:39.323963",
     "status": "completed"
    },
    "tags": []
   },
   "outputs": [
    {
     "data": {
      "text/plain": [
       "[<matplotlib.lines.Line2D at 0x754a32f577d0>]"
      ]
     },
     "execution_count": 36,
     "metadata": {},
     "output_type": "execute_result"
    },
    {
     "data": {
      "image/png": "[encoded data removed]",
      "text/plain": [
       "<Figure size 432x288 with 1 Axes>"
      ]
     },
     "metadata": {
      "needs_background": "light"
     },
     "output_type": "display_data"
    }
   ],
   "source": [
    "plt.xlabel('Total distance Travelled By Muon')\n",
    "plt.ylabel('Sensors bounced on')\n",
    "plt.plot(d,event5_pulse_info['sensor_id'], color=\"green\")"
   ]
  },
  {
   "cell_type": "code",
   "execution_count": 37,
   "id": "b6640564",
   "metadata": {
    "execution": {
     "iopub.execute_input": "2023-04-29T04:46:39.581389Z",
     "iopub.status.busy": "2023-04-29T04:46:39.580701Z",
     "iopub.status.idle": "2023-04-29T04:46:39.584982Z",
     "shell.execute_reply": "2023-04-29T04:46:39.584120Z"
    },
    "papermill": {
     "duration": 0.02816,
     "end_time": "2023-04-29T04:46:39.587203",
     "exception": false,
     "start_time": "2023-04-29T04:46:39.559043",
     "status": "completed"
    },
    "tags": []
   },
   "outputs": [],
   "source": [
    "dn=np.array(d)"
   ]
  },
  {
   "cell_type": "code",
   "execution_count": 38,
   "id": "dbae417c",
   "metadata": {
    "execution": {
     "iopub.execute_input": "2023-04-29T04:46:39.629744Z",
     "iopub.status.busy": "2023-04-29T04:46:39.629059Z",
     "iopub.status.idle": "2023-04-29T04:46:39.633212Z",
     "shell.execute_reply": "2023-04-29T04:46:39.632438Z"
    },
    "papermill": {
     "duration": 0.027749,
     "end_time": "2023-04-29T04:46:39.635218",
     "exception": false,
     "start_time": "2023-04-29T04:46:39.607469",
     "status": "completed"
    },
    "tags": []
   },
   "outputs": [],
   "source": [
    "dd=dn.reshape(-1,1)"
   ]
  },
  {
   "cell_type": "code",
   "execution_count": 39,
   "id": "59dac5c1",
   "metadata": {
    "execution": {
     "iopub.execute_input": "2023-04-29T04:46:39.678771Z",
     "iopub.status.busy": "2023-04-29T04:46:39.678098Z",
     "iopub.status.idle": "2023-04-29T04:46:39.737559Z",
     "shell.execute_reply": "2023-04-29T04:46:39.736236Z"
    },
    "papermill": {
     "duration": 0.084508,
     "end_time": "2023-04-29T04:46:39.740350",
     "exception": false,
     "start_time": "2023-04-29T04:46:39.655842",
     "status": "completed"
    },
    "tags": []
   },
   "outputs": [],
   "source": [
    "huberpred = HuberRegressor().fit(dd,event5_pulse_info['auxiliary'])"
   ]
  },
  {
   "cell_type": "code",
   "execution_count": 40,
   "id": "a58b784a",
   "metadata": {
    "execution": {
     "iopub.execute_input": "2023-04-29T04:46:39.784272Z",
     "iopub.status.busy": "2023-04-29T04:46:39.783732Z",
     "iopub.status.idle": "2023-04-29T04:46:40.055950Z",
     "shell.execute_reply": "2023-04-29T04:46:40.054900Z"
    },
    "papermill": {
     "duration": 0.29677,
     "end_time": "2023-04-29T04:46:40.058262",
     "exception": false,
     "start_time": "2023-04-29T04:46:39.761492",
     "status": "completed"
    },
    "tags": []
   },
   "outputs": [
    {
     "data": {
      "text/plain": [
       "<mpl_toolkits.mplot3d.art3d.Path3DCollection at 0x754a32ec2cd0>"
      ]
     },
     "execution_count": 40,
     "metadata": {},
     "output_type": "execute_result"
    },
    {
     "data": {
      "image/png": "[encoded data removed]",
      "text/plain": [
       "<Figure size 504x504 with 1 Axes>"
      ]
     },
     "metadata": {
      "needs_background": "light"
     },
     "output_type": "display_data"
    }
   ],
   "source": [
    "fig1=plt.figure()\n",
    "fig1.set_figwidth(7)\n",
    "fig1.set_figheight(7)\n",
    "ax1 = plt.axes(projection ='3d')\n",
    "ax1.set_xlabel('Distance')\n",
    "ax1.set_ylabel('Sensor Id')\n",
    "ax1.set_zlabel('Clarity')\n",
    "ax1.set_title('Variation')\n",
    "ax1.scatter3D(d,event5_pulse_info['sensor_id'],huberpred.predict(dd),color='purple')\n"
   ]
  },
  {
   "cell_type": "code",
   "execution_count": 41,
   "id": "01fb3fc2",
   "metadata": {
    "execution": {
     "iopub.execute_input": "2023-04-29T04:46:40.104995Z",
     "iopub.status.busy": "2023-04-29T04:46:40.104606Z",
     "iopub.status.idle": "2023-04-29T04:46:40.109590Z",
     "shell.execute_reply": "2023-04-29T04:46:40.108398Z"
    },
    "papermill": {
     "duration": 0.031556,
     "end_time": "2023-04-29T04:46:40.111874",
     "exception": false,
     "start_time": "2023-04-29T04:46:40.080318",
     "status": "completed"
    },
    "tags": []
   },
   "outputs": [],
   "source": [
    "sensor=np.array(event5_pulse_info['sensor_id'])"
   ]
  },
  {
   "cell_type": "markdown",
   "id": "3665d730",
   "metadata": {
    "papermill": {
     "duration": 0.02085,
     "end_time": "2023-04-29T04:46:40.153951",
     "exception": false,
     "start_time": "2023-04-29T04:46:40.133101",
     "status": "completed"
    },
    "tags": []
   },
   "source": [
    "The path can be deduced following the distance covered by the pulse via each sensor and clarity of the signal when auxiliary=false through a line fit. They would be mapped to the path observed through the recorded azimuth and zenith angle. The fit score will be analysed on each batch on the set of events,to obtain the appropriate line fit based on the statistical convergence of the events in each batch."
   ]
  },
  {
   "cell_type": "code",
   "execution_count": 42,
   "id": "208b6179",
   "metadata": {
    "execution": {
     "iopub.execute_input": "2023-04-29T04:46:40.198544Z",
     "iopub.status.busy": "2023-04-29T04:46:40.197451Z",
     "iopub.status.idle": "2023-04-29T04:46:40.204742Z",
     "shell.execute_reply": "2023-04-29T04:46:40.203848Z"
    },
    "papermill": {
     "duration": 0.031898,
     "end_time": "2023-04-29T04:46:40.206999",
     "exception": false,
     "start_time": "2023-04-29T04:46:40.175101",
     "status": "completed"
    },
    "tags": []
   },
   "outputs": [],
   "source": [
    "event5_pulse_info['x_norm']=(event5_pulse_info['x']-np.min(event5_pulse_info['x']))/(np.max(event5_pulse_info['x'])-np.min(event5_pulse_info['x']))"
   ]
  },
  {
   "cell_type": "code",
   "execution_count": 43,
   "id": "28486b47",
   "metadata": {
    "execution": {
     "iopub.execute_input": "2023-04-29T04:46:40.251935Z",
     "iopub.status.busy": "2023-04-29T04:46:40.251113Z",
     "iopub.status.idle": "2023-04-29T04:46:40.258277Z",
     "shell.execute_reply": "2023-04-29T04:46:40.257424Z"
    },
    "papermill": {
     "duration": 0.032401,
     "end_time": "2023-04-29T04:46:40.260713",
     "exception": false,
     "start_time": "2023-04-29T04:46:40.228312",
     "status": "completed"
    },
    "tags": []
   },
   "outputs": [],
   "source": [
    "event5_pulse_info['y_norm']=(event5_pulse_info['y']-np.min(event5_pulse_info['y']))/(np.max(event5_pulse_info['y'])-np.min(event5_pulse_info['y']))"
   ]
  },
  {
   "cell_type": "code",
   "execution_count": 44,
   "id": "0a129ae8",
   "metadata": {
    "execution": {
     "iopub.execute_input": "2023-04-29T04:46:40.305600Z",
     "iopub.status.busy": "2023-04-29T04:46:40.304786Z",
     "iopub.status.idle": "2023-04-29T04:46:40.311469Z",
     "shell.execute_reply": "2023-04-29T04:46:40.310494Z"
    },
    "papermill": {
     "duration": 0.031771,
     "end_time": "2023-04-29T04:46:40.313609",
     "exception": false,
     "start_time": "2023-04-29T04:46:40.281838",
     "status": "completed"
    },
    "tags": []
   },
   "outputs": [],
   "source": [
    "event5_pulse_info['z_norm']=(event5_pulse_info['z']-np.min(event5_pulse_info['z']))/(np.max(event5_pulse_info['z'])-np.min(event5_pulse_info['z']))"
   ]
  },
  {
   "cell_type": "code",
   "execution_count": 45,
   "id": "1229b702",
   "metadata": {
    "execution": {
     "iopub.execute_input": "2023-04-29T04:46:40.358249Z",
     "iopub.status.busy": "2023-04-29T04:46:40.357503Z",
     "iopub.status.idle": "2023-04-29T04:46:40.362435Z",
     "shell.execute_reply": "2023-04-29T04:46:40.361358Z"
    },
    "papermill": {
     "duration": 0.030023,
     "end_time": "2023-04-29T04:46:40.364708",
     "exception": false,
     "start_time": "2023-04-29T04:46:40.334685",
     "status": "completed"
    },
    "tags": []
   },
   "outputs": [],
   "source": [
    "import math\n",
    "import warnings\n",
    "warnings.filterwarnings('ignore')"
   ]
  },
  {
   "cell_type": "code",
   "execution_count": 46,
   "id": "81ae55bd",
   "metadata": {
    "execution": {
     "iopub.execute_input": "2023-04-29T04:46:40.409335Z",
     "iopub.status.busy": "2023-04-29T04:46:40.408581Z",
     "iopub.status.idle": "2023-04-29T04:46:40.414464Z",
     "shell.execute_reply": "2023-04-29T04:46:40.413598Z"
    },
    "papermill": {
     "duration": 0.030761,
     "end_time": "2023-04-29T04:46:40.416583",
     "exception": false,
     "start_time": "2023-04-29T04:46:40.385822",
     "status": "completed"
    },
    "tags": []
   },
   "outputs": [],
   "source": [
    "def bouncedir(d1,d2,d3):\n",
    "    p=[]\n",
    "    if d1==0:\n",
    "        azimuth=np.pi/2\n",
    "    else:\n",
    "        azimuth=math.atan(d2/d1)\n",
    "    if azimuth<0:\n",
    "        azimuth=2*np.pi+azimuth\n",
    "    zenith=math.acos(d3)\n",
    "    p.append([azimuth,zenith])\n",
    "    return p"
   ]
  },
  {
   "cell_type": "code",
   "execution_count": 47,
   "id": "48f40dae",
   "metadata": {
    "execution": {
     "iopub.execute_input": "2023-04-29T04:46:40.461070Z",
     "iopub.status.busy": "2023-04-29T04:46:40.460324Z",
     "iopub.status.idle": "2023-04-29T04:46:40.467732Z",
     "shell.execute_reply": "2023-04-29T04:46:40.466810Z"
    },
    "papermill": {
     "duration": 0.032273,
     "end_time": "2023-04-29T04:46:40.470030",
     "exception": false,
     "start_time": "2023-04-29T04:46:40.437757",
     "status": "completed"
    },
    "tags": []
   },
   "outputs": [],
   "source": [
    "l=len(event5_pulse_info)\n",
    "y1=[]\n",
    "y2=[]\n",
    "for i in range(l):\n",
    "    p=bouncedir(event5_pulse_info['x_norm'][i],event5_pulse_info['y_norm'][i],event5_pulse_info['z_norm'][i])\n",
    "    y1.append(p[0][0])\n",
    "    y2.append(p[0][1])"
   ]
  },
  {
   "cell_type": "markdown",
   "id": "de415dde",
   "metadata": {
    "papermill": {
     "duration": 0.020739,
     "end_time": "2023-04-29T04:46:40.511987",
     "exception": false,
     "start_time": "2023-04-29T04:46:40.491248",
     "status": "completed"
    },
    "tags": []
   },
   "source": [
    "A Multiple Linear Regression Model to Understand the relationship between distance travelled by the muon, sensors hit, clarity of the signal to derive the azimuth and zenith angle tracked through each muon would be trained."
   ]
  },
  {
   "cell_type": "code",
   "execution_count": 48,
   "id": "dd443bf9",
   "metadata": {
    "execution": {
     "iopub.execute_input": "2023-04-29T04:46:40.556471Z",
     "iopub.status.busy": "2023-04-29T04:46:40.555754Z",
     "iopub.status.idle": "2023-04-29T04:46:40.560794Z",
     "shell.execute_reply": "2023-04-29T04:46:40.559890Z"
    },
    "papermill": {
     "duration": 0.029769,
     "end_time": "2023-04-29T04:46:40.562946",
     "exception": false,
     "start_time": "2023-04-29T04:46:40.533177",
     "status": "completed"
    },
    "tags": []
   },
   "outputs": [],
   "source": [
    "r=int(0.75*l)\n",
    "tr5=event5_pulse_info[0:r]\n",
    "te5=event5_pulse_info[r:l]"
   ]
  },
  {
   "cell_type": "code",
   "execution_count": 49,
   "id": "9ce29c22",
   "metadata": {
    "execution": {
     "iopub.execute_input": "2023-04-29T04:46:40.607420Z",
     "iopub.status.busy": "2023-04-29T04:46:40.606735Z",
     "iopub.status.idle": "2023-04-29T04:46:40.611501Z",
     "shell.execute_reply": "2023-04-29T04:46:40.610357Z"
    },
    "papermill": {
     "duration": 0.029861,
     "end_time": "2023-04-29T04:46:40.613994",
     "exception": false,
     "start_time": "2023-04-29T04:46:40.584133",
     "status": "completed"
    },
    "tags": []
   },
   "outputs": [],
   "source": [
    "\n",
    "from sklearn.linear_model import LinearRegression"
   ]
  },
  {
   "cell_type": "code",
   "execution_count": 50,
   "id": "797e69d4",
   "metadata": {
    "execution": {
     "iopub.execute_input": "2023-04-29T04:46:40.658438Z",
     "iopub.status.busy": "2023-04-29T04:46:40.658025Z",
     "iopub.status.idle": "2023-04-29T04:46:40.663382Z",
     "shell.execute_reply": "2023-04-29T04:46:40.662228Z"
    },
    "papermill": {
     "duration": 0.030213,
     "end_time": "2023-04-29T04:46:40.665582",
     "exception": false,
     "start_time": "2023-04-29T04:46:40.635369",
     "status": "completed"
    },
    "tags": []
   },
   "outputs": [],
   "source": [
    "yn=np.array(y2)"
   ]
  },
  {
   "cell_type": "code",
   "execution_count": 51,
   "id": "4d7cc0dc",
   "metadata": {
    "execution": {
     "iopub.execute_input": "2023-04-29T04:46:40.710444Z",
     "iopub.status.busy": "2023-04-29T04:46:40.710034Z",
     "iopub.status.idle": "2023-04-29T04:46:40.714982Z",
     "shell.execute_reply": "2023-04-29T04:46:40.713888Z"
    },
    "papermill": {
     "duration": 0.030006,
     "end_time": "2023-04-29T04:46:40.717449",
     "exception": false,
     "start_time": "2023-04-29T04:46:40.687443",
     "status": "completed"
    },
    "tags": []
   },
   "outputs": [],
   "source": [
    "ys=yn.reshape(-1,1)"
   ]
  },
  {
   "cell_type": "code",
   "execution_count": 52,
   "id": "93e11aaf",
   "metadata": {
    "execution": {
     "iopub.execute_input": "2023-04-29T04:46:40.762118Z",
     "iopub.status.busy": "2023-04-29T04:46:40.761703Z",
     "iopub.status.idle": "2023-04-29T04:46:40.767460Z",
     "shell.execute_reply": "2023-04-29T04:46:40.766374Z"
    },
    "papermill": {
     "duration": 0.030537,
     "end_time": "2023-04-29T04:46:40.769670",
     "exception": false,
     "start_time": "2023-04-29T04:46:40.739133",
     "status": "completed"
    },
    "tags": []
   },
   "outputs": [],
   "source": [
    "hl=list(huberpred.predict(dd)[0:r])"
   ]
  },
  {
   "cell_type": "code",
   "execution_count": 53,
   "id": "fb41ac72",
   "metadata": {
    "execution": {
     "iopub.execute_input": "2023-04-29T04:46:40.814234Z",
     "iopub.status.busy": "2023-04-29T04:46:40.813777Z",
     "iopub.status.idle": "2023-04-29T04:46:40.819001Z",
     "shell.execute_reply": "2023-04-29T04:46:40.817789Z"
    },
    "papermill": {
     "duration": 0.030608,
     "end_time": "2023-04-29T04:46:40.821432",
     "exception": false,
     "start_time": "2023-04-29T04:46:40.790824",
     "status": "completed"
    },
    "tags": []
   },
   "outputs": [],
   "source": [
    "hlt=list(huberpred.predict(dd)[r:l])"
   ]
  },
  {
   "cell_type": "code",
   "execution_count": 54,
   "id": "2ff791a4",
   "metadata": {
    "execution": {
     "iopub.execute_input": "2023-04-29T04:46:40.866367Z",
     "iopub.status.busy": "2023-04-29T04:46:40.865122Z",
     "iopub.status.idle": "2023-04-29T04:46:40.870490Z",
     "shell.execute_reply": "2023-04-29T04:46:40.869612Z"
    },
    "papermill": {
     "duration": 0.030067,
     "end_time": "2023-04-29T04:46:40.872732",
     "exception": false,
     "start_time": "2023-04-29T04:46:40.842665",
     "status": "completed"
    },
    "tags": []
   },
   "outputs": [],
   "source": [
    "ndf=tr5"
   ]
  },
  {
   "cell_type": "code",
   "execution_count": 55,
   "id": "cd575653",
   "metadata": {
    "execution": {
     "iopub.execute_input": "2023-04-29T04:46:40.917574Z",
     "iopub.status.busy": "2023-04-29T04:46:40.916359Z",
     "iopub.status.idle": "2023-04-29T04:46:40.921791Z",
     "shell.execute_reply": "2023-04-29T04:46:40.920893Z"
    },
    "papermill": {
     "duration": 0.030359,
     "end_time": "2023-04-29T04:46:40.924123",
     "exception": false,
     "start_time": "2023-04-29T04:46:40.893764",
     "status": "completed"
    },
    "tags": []
   },
   "outputs": [],
   "source": [
    "ntdf=te5"
   ]
  },
  {
   "cell_type": "code",
   "execution_count": 56,
   "id": "fb562757",
   "metadata": {
    "execution": {
     "iopub.execute_input": "2023-04-29T04:46:40.968903Z",
     "iopub.status.busy": "2023-04-29T04:46:40.968081Z",
     "iopub.status.idle": "2023-04-29T04:46:40.974056Z",
     "shell.execute_reply": "2023-04-29T04:46:40.973203Z"
    },
    "papermill": {
     "duration": 0.030989,
     "end_time": "2023-04-29T04:46:40.976364",
     "exception": false,
     "start_time": "2023-04-29T04:46:40.945375",
     "status": "completed"
    },
    "tags": []
   },
   "outputs": [],
   "source": [
    "ndf['total_dist']=d[0:r]"
   ]
  },
  {
   "cell_type": "code",
   "execution_count": 57,
   "id": "fdb132de",
   "metadata": {
    "execution": {
     "iopub.execute_input": "2023-04-29T04:46:41.022587Z",
     "iopub.status.busy": "2023-04-29T04:46:41.021729Z",
     "iopub.status.idle": "2023-04-29T04:46:41.027804Z",
     "shell.execute_reply": "2023-04-29T04:46:41.026932Z"
    },
    "papermill": {
     "duration": 0.032064,
     "end_time": "2023-04-29T04:46:41.030109",
     "exception": false,
     "start_time": "2023-04-29T04:46:40.998045",
     "status": "completed"
    },
    "tags": []
   },
   "outputs": [],
   "source": [
    "ntdf['total_dist']=d[r:l]"
   ]
  },
  {
   "cell_type": "code",
   "execution_count": 58,
   "id": "b2cdb047",
   "metadata": {
    "execution": {
     "iopub.execute_input": "2023-04-29T04:46:41.075533Z",
     "iopub.status.busy": "2023-04-29T04:46:41.074729Z",
     "iopub.status.idle": "2023-04-29T04:46:41.080659Z",
     "shell.execute_reply": "2023-04-29T04:46:41.079652Z"
    },
    "papermill": {
     "duration": 0.03111,
     "end_time": "2023-04-29T04:46:41.082904",
     "exception": false,
     "start_time": "2023-04-29T04:46:41.051794",
     "status": "completed"
    },
    "tags": []
   },
   "outputs": [],
   "source": [
    "ntdf['predict_clarity']=hlt"
   ]
  },
  {
   "cell_type": "code",
   "execution_count": 59,
   "id": "5bca77b9",
   "metadata": {
    "execution": {
     "iopub.execute_input": "2023-04-29T04:46:41.128266Z",
     "iopub.status.busy": "2023-04-29T04:46:41.127019Z",
     "iopub.status.idle": "2023-04-29T04:46:41.133769Z",
     "shell.execute_reply": "2023-04-29T04:46:41.132899Z"
    },
    "papermill": {
     "duration": 0.031709,
     "end_time": "2023-04-29T04:46:41.136101",
     "exception": false,
     "start_time": "2023-04-29T04:46:41.104392",
     "status": "completed"
    },
    "tags": []
   },
   "outputs": [],
   "source": [
    "ndf['predict_clarity']=hl"
   ]
  },
  {
   "cell_type": "code",
   "execution_count": 60,
   "id": "037a1a19",
   "metadata": {
    "execution": {
     "iopub.execute_input": "2023-04-29T04:46:41.180416Z",
     "iopub.status.busy": "2023-04-29T04:46:41.179993Z",
     "iopub.status.idle": "2023-04-29T04:46:41.185197Z",
     "shell.execute_reply": "2023-04-29T04:46:41.184217Z"
    },
    "papermill": {
     "duration": 0.030261,
     "end_time": "2023-04-29T04:46:41.187357",
     "exception": false,
     "start_time": "2023-04-29T04:46:41.157096",
     "status": "completed"
    },
    "tags": []
   },
   "outputs": [],
   "source": [
    "reg=LinearRegression()"
   ]
  },
  {
   "cell_type": "code",
   "execution_count": 61,
   "id": "1d669ccd",
   "metadata": {
    "execution": {
     "iopub.execute_input": "2023-04-29T04:46:41.231567Z",
     "iopub.status.busy": "2023-04-29T04:46:41.231127Z",
     "iopub.status.idle": "2023-04-29T04:46:41.236392Z",
     "shell.execute_reply": "2023-04-29T04:46:41.235075Z"
    },
    "papermill": {
     "duration": 0.030183,
     "end_time": "2023-04-29T04:46:41.238727",
     "exception": false,
     "start_time": "2023-04-29T04:46:41.208544",
     "status": "completed"
    },
    "tags": []
   },
   "outputs": [],
   "source": [
    "regz=LinearRegression()"
   ]
  },
  {
   "cell_type": "code",
   "execution_count": 62,
   "id": "ac6f57a9",
   "metadata": {
    "execution": {
     "iopub.execute_input": "2023-04-29T04:46:41.283558Z",
     "iopub.status.busy": "2023-04-29T04:46:41.283171Z",
     "iopub.status.idle": "2023-04-29T04:46:41.311462Z",
     "shell.execute_reply": "2023-04-29T04:46:41.310082Z"
    },
    "papermill": {
     "duration": 0.054183,
     "end_time": "2023-04-29T04:46:41.314206",
     "exception": false,
     "start_time": "2023-04-29T04:46:41.260023",
     "status": "completed"
    },
    "tags": []
   },
   "outputs": [
    {
     "data": {
      "text/plain": [
       "LinearRegression()"
      ]
     },
     "execution_count": 62,
     "metadata": {},
     "output_type": "execute_result"
    }
   ],
   "source": [
    "reg.fit(ndf[['total_dist','sensor_id','predict_clarity']],y1[0:r])"
   ]
  },
  {
   "cell_type": "code",
   "execution_count": 63,
   "id": "9ebf6371",
   "metadata": {
    "execution": {
     "iopub.execute_input": "2023-04-29T04:46:41.360005Z",
     "iopub.status.busy": "2023-04-29T04:46:41.358863Z",
     "iopub.status.idle": "2023-04-29T04:46:41.366061Z",
     "shell.execute_reply": "2023-04-29T04:46:41.365077Z"
    },
    "papermill": {
     "duration": 0.032448,
     "end_time": "2023-04-29T04:46:41.368309",
     "exception": false,
     "start_time": "2023-04-29T04:46:41.335861",
     "status": "completed"
    },
    "tags": []
   },
   "outputs": [
    {
     "data": {
      "text/plain": [
       "0.017172538664791515"
      ]
     },
     "execution_count": 63,
     "metadata": {},
     "output_type": "execute_result"
    }
   ],
   "source": [
    "reg.intercept_"
   ]
  },
  {
   "cell_type": "code",
   "execution_count": 64,
   "id": "593d2cc7",
   "metadata": {
    "execution": {
     "iopub.execute_input": "2023-04-29T04:46:41.413869Z",
     "iopub.status.busy": "2023-04-29T04:46:41.413442Z",
     "iopub.status.idle": "2023-04-29T04:46:41.422322Z",
     "shell.execute_reply": "2023-04-29T04:46:41.421206Z"
    },
    "papermill": {
     "duration": 0.03487,
     "end_time": "2023-04-29T04:46:41.424820",
     "exception": false,
     "start_time": "2023-04-29T04:46:41.389950",
     "status": "completed"
    },
    "tags": []
   },
   "outputs": [],
   "source": [
    "paz=reg.predict(ntdf[['total_dist','sensor_id','predict_clarity']])"
   ]
  },
  {
   "cell_type": "code",
   "execution_count": 65,
   "id": "288b4ffc",
   "metadata": {
    "execution": {
     "iopub.execute_input": "2023-04-29T04:46:41.469940Z",
     "iopub.status.busy": "2023-04-29T04:46:41.469090Z",
     "iopub.status.idle": "2023-04-29T04:46:41.476648Z",
     "shell.execute_reply": "2023-04-29T04:46:41.475682Z"
    },
    "papermill": {
     "duration": 0.032885,
     "end_time": "2023-04-29T04:46:41.478980",
     "exception": false,
     "start_time": "2023-04-29T04:46:41.446095",
     "status": "completed"
    },
    "tags": []
   },
   "outputs": [
    {
     "data": {
      "text/plain": [
       "array([1.2199058 , 0.90988344, 0.51534215, 0.51341545, 0.57069274,\n",
       "       0.78566385, 1.29229163, 1.44892248, 1.21202346, 1.26384021,\n",
       "       1.48549326, 1.52282298, 1.4475877 ])"
      ]
     },
     "execution_count": 65,
     "metadata": {},
     "output_type": "execute_result"
    }
   ],
   "source": [
    "paz"
   ]
  },
  {
   "cell_type": "code",
   "execution_count": 66,
   "id": "3a7b813e",
   "metadata": {
    "execution": {
     "iopub.execute_input": "2023-04-29T04:46:41.524211Z",
     "iopub.status.busy": "2023-04-29T04:46:41.523777Z",
     "iopub.status.idle": "2023-04-29T04:46:41.531197Z",
     "shell.execute_reply": "2023-04-29T04:46:41.530017Z"
    },
    "papermill": {
     "duration": 0.032751,
     "end_time": "2023-04-29T04:46:41.533405",
     "exception": false,
     "start_time": "2023-04-29T04:46:41.500654",
     "status": "completed"
    },
    "tags": []
   },
   "outputs": [
    {
     "data": {
      "text/plain": [
       "array([0.88143464, 0.57664497, 0.56755911, 0.43203526, 0.35834148,\n",
       "       0.49758229, 1.06915158, 1.06915158, 0.92551585, 1.41636101,\n",
       "       0.81430781, 0.81430781, 0.87763506])"
      ]
     },
     "execution_count": 66,
     "metadata": {},
     "output_type": "execute_result"
    }
   ],
   "source": [
    "np.array(y1[r:l])"
   ]
  },
  {
   "cell_type": "code",
   "execution_count": 67,
   "id": "e101b4df",
   "metadata": {
    "execution": {
     "iopub.execute_input": "2023-04-29T04:46:41.578797Z",
     "iopub.status.busy": "2023-04-29T04:46:41.577838Z",
     "iopub.status.idle": "2023-04-29T04:46:41.589135Z",
     "shell.execute_reply": "2023-04-29T04:46:41.587934Z"
    },
    "papermill": {
     "duration": 0.036477,
     "end_time": "2023-04-29T04:46:41.591472",
     "exception": false,
     "start_time": "2023-04-29T04:46:41.554995",
     "status": "completed"
    },
    "tags": []
   },
   "outputs": [
    {
     "data": {
      "text/plain": [
       "LinearRegression()"
      ]
     },
     "execution_count": 67,
     "metadata": {},
     "output_type": "execute_result"
    }
   ],
   "source": [
    "regz.fit(ndf[['total_dist','sensor_id','predict_clarity']],y2[0:r])"
   ]
  },
  {
   "cell_type": "code",
   "execution_count": 68,
   "id": "5caf8e73",
   "metadata": {
    "execution": {
     "iopub.execute_input": "2023-04-29T04:46:41.636536Z",
     "iopub.status.busy": "2023-04-29T04:46:41.636108Z",
     "iopub.status.idle": "2023-04-29T04:46:41.644543Z",
     "shell.execute_reply": "2023-04-29T04:46:41.643238Z"
    },
    "papermill": {
     "duration": 0.033668,
     "end_time": "2023-04-29T04:46:41.646850",
     "exception": false,
     "start_time": "2023-04-29T04:46:41.613182",
     "status": "completed"
    },
    "tags": []
   },
   "outputs": [],
   "source": [
    "pr=regz.predict(ntdf[['total_dist','sensor_id','predict_clarity']])"
   ]
  },
  {
   "cell_type": "code",
   "execution_count": 69,
   "id": "8d11d33c",
   "metadata": {
    "execution": {
     "iopub.execute_input": "2023-04-29T04:46:41.693689Z",
     "iopub.status.busy": "2023-04-29T04:46:41.692362Z",
     "iopub.status.idle": "2023-04-29T04:46:41.700077Z",
     "shell.execute_reply": "2023-04-29T04:46:41.698981Z"
    },
    "papermill": {
     "duration": 0.033806,
     "end_time": "2023-04-29T04:46:41.702488",
     "exception": false,
     "start_time": "2023-04-29T04:46:41.668682",
     "status": "completed"
    },
    "tags": []
   },
   "outputs": [
    {
     "data": {
      "text/plain": [
       "array([0.89112699, 0.91623924, 0.83052699, 0.92036595, 0.83658391,\n",
       "       0.92580369, 0.88903613, 1.01548265, 0.98253838, 0.97677548,\n",
       "       0.90808677, 0.93822268, 0.9159406 ])"
      ]
     },
     "execution_count": 69,
     "metadata": {},
     "output_type": "execute_result"
    }
   ],
   "source": [
    "pr"
   ]
  },
  {
   "cell_type": "code",
   "execution_count": 70,
   "id": "8fd86f92",
   "metadata": {
    "execution": {
     "iopub.execute_input": "2023-04-29T04:46:41.748118Z",
     "iopub.status.busy": "2023-04-29T04:46:41.747568Z",
     "iopub.status.idle": "2023-04-29T04:46:41.755577Z",
     "shell.execute_reply": "2023-04-29T04:46:41.754454Z"
    },
    "papermill": {
     "duration": 0.03329,
     "end_time": "2023-04-29T04:46:41.757748",
     "exception": false,
     "start_time": "2023-04-29T04:46:41.724458",
     "status": "completed"
    },
    "tags": []
   },
   "outputs": [
    {
     "data": {
      "text/plain": [
       "array([0.92498096, 1.37294393, 0.78294058, 1.00505719, 0.02907668,\n",
       "       0.59128181, 0.72662848, 0.72662848, 1.54452572, 1.11982422,\n",
       "       1.36403657, 1.36403657, 1.48682255])"
      ]
     },
     "execution_count": 70,
     "metadata": {},
     "output_type": "execute_result"
    }
   ],
   "source": [
    "np.array(y2[r:l])"
   ]
  },
  {
   "cell_type": "markdown",
   "id": "5fda39cf",
   "metadata": {
    "papermill": {
     "duration": 0.021716,
     "end_time": "2023-04-29T04:46:41.801604",
     "exception": false,
     "start_time": "2023-04-29T04:46:41.779888",
     "status": "completed"
    },
    "tags": []
   },
   "source": [
    "The predicted direction for each sensor through azimuth and zenith angle at the bouncing point taken on events used for training would be used to deduce the spotted positions, x, y, z coordinates for events in test to arrive at their azimuth and zenith angle."
   ]
  }
 ],
 "metadata": {
  "kernelspec": {
   "display_name": "Python 3",
   "language": "python",
   "name": "python3"
  },
  "language_info": {
   "codemirror_mode": {
    "name": "ipython",
    "version": 3
   },
   "file_extension": ".py",
   "mimetype": "text/x-python",
   "name": "python",
   "nbconvert_exporter": "python",
   "pygments_lexer": "ipython3",
   "version": "3.7.12"
  },
  "papermill": {
   "default_parameters": {},
   "duration": 91.346336,
   "end_time": "2023-04-29T04:46:42.747922",
   "environment_variables": {},
   "exception": null,
   "input_path": "__notebook__.ipynb",
   "output_path": "__notebook__.ipynb",
   "parameters": {},
   "start_time": "2023-04-29T04:45:11.401586",
   "version": "2.3.4"
  }
 },
 "nbformat": 4,
 "nbformat_minor": 5
}
