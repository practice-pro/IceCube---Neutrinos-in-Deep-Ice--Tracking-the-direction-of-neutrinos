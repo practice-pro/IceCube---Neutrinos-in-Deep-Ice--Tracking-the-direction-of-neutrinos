{
  "metadata": {
    "kernelspec": {
      "language": "python",
      "display_name": "Python 3",
      "name": "python3"
    },
    "language_info": {
      "pygments_lexer": "ipython3",
      "nbconvert_exporter": "python",
      "version": "3.6.4",
      "file_extension": ".py",
      "codemirror_mode": {
        "name": "ipython",
        "version": 3
      },
      "name": "python",
      "mimetype": "text/x-python"
    },
    "colab": {
      "name": "Direction_neutrino_Regression",
      "provenance": [],
      "include_colab_link": true
    }
  },
  "nbformat_minor": 0,
  "nbformat": 4,
  "cells": [
    {
      "cell_type": "markdown",
      "metadata": {
        "id": "view-in-github",
        "colab_type": "text"
      },
      "source": [
        "<a href=\"https://colab.research.google.com/github/practice-pro/IceCube---Neutrinos-in-Deep-Ice--Tracking-the-direction-of-neutrinos/blob/main/Direction_neutrino_Regression.ipynb\" target=\"_parent\"><img src=\"https://colab.research.google.com/assets/colab-badge.svg\" alt=\"Open In Colab\"/></a>"
      ]
    },
    {
      "source": [
        "# IMPORTANT: SOME KAGGLE DATA SOURCES ARE PRIVATE\n",
        "# RUN THIS CELL IN ORDER TO IMPORT YOUR KAGGLE DATA SOURCES.\n",
        "import kagglehub\n",
        "kagglehub.login()\n"
      ],
      "metadata": {
        "id": "mjgK-RYIzkJn"
      },
      "cell_type": "code",
      "outputs": [],
      "execution_count": null
    },
    {
      "source": [
        "# IMPORTANT: RUN THIS CELL IN ORDER TO IMPORT YOUR KAGGLE DATA SOURCES,\n",
        "# THEN FEEL FREE TO DELETE THIS CELL.\n",
        "# NOTE: THIS NOTEBOOK ENVIRONMENT DIFFERS FROM KAGGLE'S PYTHON\n",
        "# ENVIRONMENT SO THERE MAY BE MISSING LIBRARIES USED BY YOUR\n",
        "# NOTEBOOK.\n",
        "\n",
        "icecube_neutrinos_in_deep_ice_path = kagglehub.competition_download('icecube-neutrinos-in-deep-ice')\n",
        "\n",
        "print('Data source import complete.')\n"
      ],
      "metadata": {
        "id": "NLQVotEFzkJr"
      },
      "cell_type": "code",
      "outputs": [],
      "execution_count": null
    },
    {
      "cell_type": "markdown",
      "source": [
        "Detecting the direction of a neutrino from cosmos is important to understand the exceptional phenomena in the universe. They are detected as they are deflected on the sensors placed in the Antarctic region through noticeable reaction with matter to produce balls of light on the detectors. The calculation of Azimuth and Zenith angle would help figure out the orientation of earth with the source's plane and the exact position of the source."
      ],
      "metadata": {
        "execution": {
          "iopub.status.busy": "2023-04-28T13:30:25.628381Z",
          "iopub.execute_input": "2023-04-28T13:30:25.629104Z",
          "iopub.status.idle": "2023-04-28T13:30:25.636263Z",
          "shell.execute_reply.started": "2023-04-28T13:30:25.629049Z",
          "shell.execute_reply": "2023-04-28T13:30:25.634217Z"
        },
        "id": "RBdlRMEhzkJu"
      }
    },
    {
      "cell_type": "markdown",
      "source": [
        "![doc_az.png](attachment:4e56dc31-d5d4-472a-b0bf-876dfb6dc9db.png)"
      ],
      "metadata": {
        "id": "TqNRCF5kzkJy"
      }
    },
    {
      "cell_type": "code",
      "source": [
        "import numpy as np\n",
        "import pandas as pd\n",
        "import os"
      ],
      "metadata": {
        "execution": {
          "iopub.status.busy": "2023-04-29T04:33:24.418298Z",
          "iopub.execute_input": "2023-04-29T04:33:24.418727Z",
          "iopub.status.idle": "2023-04-29T04:33:24.424323Z",
          "shell.execute_reply.started": "2023-04-29T04:33:24.418691Z",
          "shell.execute_reply": "2023-04-29T04:33:24.422865Z"
        },
        "trusted": true,
        "id": "HtwznFibzkJ0"
      },
      "execution_count": null,
      "outputs": []
    },
    {
      "cell_type": "code",
      "source": [
        "import polars as pl\n",
        "import math"
      ],
      "metadata": {
        "execution": {
          "iopub.status.busy": "2023-04-29T04:33:24.427087Z",
          "iopub.execute_input": "2023-04-29T04:33:24.427692Z",
          "iopub.status.idle": "2023-04-29T04:33:24.617423Z",
          "shell.execute_reply.started": "2023-04-29T04:33:24.427648Z",
          "shell.execute_reply": "2023-04-29T04:33:24.616415Z"
        },
        "trusted": true,
        "id": "-mHzVWR3zkJ1"
      },
      "execution_count": null,
      "outputs": []
    },
    {
      "cell_type": "code",
      "source": [
        "sensordf=pd.read_csv('/kaggle/input/icecube-neutrinos-in-deep-ice/sensor_geometry.csv')"
      ],
      "metadata": {
        "execution": {
          "iopub.status.busy": "2023-04-29T04:33:24.6188Z",
          "iopub.execute_input": "2023-04-29T04:33:24.61928Z",
          "iopub.status.idle": "2023-04-29T04:33:24.641591Z",
          "shell.execute_reply.started": "2023-04-29T04:33:24.619166Z",
          "shell.execute_reply": "2023-04-29T04:33:24.640085Z"
        },
        "trusted": true,
        "id": "NSNc_P8SzkJ2"
      },
      "execution_count": null,
      "outputs": []
    },
    {
      "cell_type": "code",
      "source": [
        "import sklearn\n",
        "from sklearn import preprocessing\n",
        "from sklearn.linear_model import HuberRegressor\n",
        "from sklearn.datasets import make_regression\n",
        "from sklearn.linear_model import LinearRegression"
      ],
      "metadata": {
        "execution": {
          "iopub.status.busy": "2023-04-29T04:33:24.64324Z",
          "iopub.execute_input": "2023-04-29T04:33:24.643589Z",
          "iopub.status.idle": "2023-04-29T04:33:25.306392Z",
          "shell.execute_reply.started": "2023-04-29T04:33:24.643556Z",
          "shell.execute_reply": "2023-04-29T04:33:25.305119Z"
        },
        "trusted": true,
        "id": "_QEHQ_7fzkJ4"
      },
      "execution_count": null,
      "outputs": []
    },
    {
      "cell_type": "markdown",
      "source": [
        "Huber Regressor is employed to minimize the effect of falsely detected pulses,to obtain the direction of the neutrinos to be deduced from each batch of events provided. The path of neutron traversal is traced for each event through the calculated azimuth and zenith angles."
      ],
      "metadata": {
        "id": "df3ouGe2zkJ5"
      }
    },
    {
      "cell_type": "code",
      "source": [
        "def conversion(az,zen):\n",
        "    l=len(az)\n",
        "    x=[]\n",
        "    y=[]\n",
        "    z=[]\n",
        "    i=0\n",
        "    for i in np.arange(l):\n",
        "        z.append(math.cos(zen[i]))\n",
        "        x.append(math.cos(az[i])*math.sin(zen[i]))\n",
        "        y.append(math.sin(az[i])*math.sin(zen[i]))\n",
        "    return x,y,z"
      ],
      "metadata": {
        "execution": {
          "iopub.status.busy": "2023-04-29T04:33:25.309159Z",
          "iopub.execute_input": "2023-04-29T04:33:25.309547Z",
          "iopub.status.idle": "2023-04-29T04:33:25.31711Z",
          "shell.execute_reply.started": "2023-04-29T04:33:25.309512Z",
          "shell.execute_reply": "2023-04-29T04:33:25.315605Z"
        },
        "trusted": true,
        "id": "7i0Z1coUzkJ7"
      },
      "execution_count": null,
      "outputs": []
    },
    {
      "cell_type": "code",
      "source": [
        "zenreg=np.array([2.18227660e-05, 3.48103408e-05, 1.24068101e-11])\n",
        "azreg=np.array([-6.38719228e-07, 1.24188883e-04, -3.63128495e-13])\n",
        "sa=np.array([8.48240613e-06, 6.19646559e-05, 7.15244887e-12])\n",
        "sz=np.array([7.26575993e-06, 1.63302382e-05, 6.12656075e-12])"
      ],
      "metadata": {
        "execution": {
          "iopub.status.busy": "2023-04-29T04:33:25.318949Z",
          "iopub.execute_input": "2023-04-29T04:33:25.319399Z",
          "iopub.status.idle": "2023-04-29T04:33:25.330395Z",
          "shell.execute_reply.started": "2023-04-29T04:33:25.319364Z",
          "shell.execute_reply": "2023-04-29T04:33:25.329004Z"
        },
        "trusted": true,
        "id": "pk9BT0JhzkJ8"
      },
      "execution_count": null,
      "outputs": []
    },
    {
      "cell_type": "markdown",
      "source": [
        "The linear regression coefficients are obtained to be used to predict the direction of each event to track the points of interaction of neutrinos to further obtain the Azimuth and Zenith angles of the corresponding occurrence. Reference to the notebook attached would cover the process used to obtain the coefficients."
      ],
      "metadata": {
        "id": "VBmeRetWzkJ9"
      }
    },
    {
      "cell_type": "markdown",
      "source": [
        "https://www.kaggle.com/sumamallapragada/neutrino-observation"
      ],
      "metadata": {
        "id": "C7r7szCHzkJ-"
      }
    },
    {
      "cell_type": "code",
      "source": [
        "ac=(sa+azreg)/2"
      ],
      "metadata": {
        "execution": {
          "iopub.status.busy": "2023-04-29T04:33:25.332077Z",
          "iopub.execute_input": "2023-04-29T04:33:25.332517Z",
          "iopub.status.idle": "2023-04-29T04:33:25.34279Z",
          "shell.execute_reply.started": "2023-04-29T04:33:25.332483Z",
          "shell.execute_reply": "2023-04-29T04:33:25.341558Z"
        },
        "trusted": true,
        "id": "gY7eJAiJzkJ_"
      },
      "execution_count": null,
      "outputs": []
    },
    {
      "cell_type": "code",
      "source": [
        "zc=(sz+zenreg)/2"
      ],
      "metadata": {
        "execution": {
          "iopub.status.busy": "2023-04-29T04:33:25.344176Z",
          "iopub.execute_input": "2023-04-29T04:33:25.344501Z",
          "iopub.status.idle": "2023-04-29T04:33:25.353819Z",
          "shell.execute_reply.started": "2023-04-29T04:33:25.344471Z",
          "shell.execute_reply": "2023-04-29T04:33:25.35282Z"
        },
        "trusted": true,
        "id": "iUcb-5z1zkKA"
      },
      "execution_count": null,
      "outputs": []
    },
    {
      "cell_type": "code",
      "source": [
        "reg=LinearRegression()\n",
        "regz=LinearRegression()\n",
        "reg.coef_=ac\n",
        "regz.coef_=zc\n",
        "reg.intercept_=0.02\n",
        "regz.intercept_=0.02"
      ],
      "metadata": {
        "execution": {
          "iopub.status.busy": "2023-04-29T04:33:25.355157Z",
          "iopub.execute_input": "2023-04-29T04:33:25.355479Z",
          "iopub.status.idle": "2023-04-29T04:33:25.36613Z",
          "shell.execute_reply.started": "2023-04-29T04:33:25.35545Z",
          "shell.execute_reply": "2023-04-29T04:33:25.364955Z"
        },
        "trusted": true,
        "id": "fUatsSiCzkKB"
      },
      "execution_count": null,
      "outputs": []
    },
    {
      "cell_type": "code",
      "source": [
        "def gethuber(btdf):\n",
        "    dn=np.array(btdf['vel_dist'])\n",
        "    dd=dn.reshape(-1,1)\n",
        "    huberpred = HuberRegressor().fit(dd,btdf['auxiliary'])\n",
        "    hl=list(huberpred.predict(dd))\n",
        "    return hl"
      ],
      "metadata": {
        "execution": {
          "iopub.status.busy": "2023-04-29T04:33:25.367588Z",
          "iopub.execute_input": "2023-04-29T04:33:25.367896Z",
          "iopub.status.idle": "2023-04-29T04:33:25.378119Z",
          "shell.execute_reply.started": "2023-04-29T04:33:25.367868Z",
          "shell.execute_reply": "2023-04-29T04:33:25.377209Z"
        },
        "trusted": true,
        "id": "AYJqN9cfzkKB"
      },
      "execution_count": null,
      "outputs": []
    },
    {
      "cell_type": "markdown",
      "source": [
        "The velocity of the neutrinos while striking the sensors would help predict the distance they covered at the instance recorded and the path they would take while distinguishing between noisy intervention using a huber fit between distance and auxiliary."
      ],
      "metadata": {
        "id": "NeWuLJOBzkKC"
      }
    },
    {
      "cell_type": "code",
      "source": [
        "def fetchxyz(btdf):\n",
        "    hl=gethuber(btdf)\n",
        "    ntdf=btdf\n",
        "    ntdf['predict_clarity']=hl\n",
        "    pra=reg.predict(btdf[['vel_dist','sensor_id','predict_clarity']].values)\n",
        "    prz=regz.predict(btdf[['vel_dist','sensor_id','predict_clarity']].values)\n",
        "    ntdf['x'],ntdf['y'],ntdf['z']=conversion(pra,prz)\n",
        "    return ntdf"
      ],
      "metadata": {
        "execution": {
          "iopub.status.busy": "2023-04-29T04:33:25.379639Z",
          "iopub.execute_input": "2023-04-29T04:33:25.379923Z",
          "iopub.status.idle": "2023-04-29T04:33:25.390241Z",
          "shell.execute_reply.started": "2023-04-29T04:33:25.379896Z",
          "shell.execute_reply": "2023-04-29T04:33:25.389235Z"
        },
        "trusted": true,
        "id": "n1hGexcszkKC"
      },
      "execution_count": null,
      "outputs": []
    },
    {
      "cell_type": "markdown",
      "source": [
        "The direction of each particle is obtained as a fit dependent on distance travelled by the neutrino, clarity of the detected signal going in the visualized direction,sensor id of the sensor struck. The path is tracked as x,y,z coordinates are obtained for the most obvious route detected through the azimuth,zenith angles obtained for each instance of the particular event from the regression fit."
      ],
      "metadata": {
        "id": "Sa-GubYyzkKG"
      }
    },
    {
      "cell_type": "code",
      "source": [
        "def predangle(df):\n",
        "    p1c=np.cov(df['z'],df['x'])\n",
        "    a1=p1c[0][1]/p1c[0][0]\n",
        "    p2c=np.cov(df['z'],df['y'])\n",
        "    a2=p2c[0][1]/p2c[0][0]\n",
        "    d=np.sqrt(1+a1**2+a2**2)\n",
        "    azimuth=np.arctan2(a2,a1)\n",
        "    if azimuth<0:\n",
        "        azimuth=2*np.pi+azimuth\n",
        "    zenith=np.arccos(1/d)\n",
        "    return azimuth,zenith"
      ],
      "metadata": {
        "execution": {
          "iopub.status.busy": "2023-04-29T04:33:25.391962Z",
          "iopub.execute_input": "2023-04-29T04:33:25.392306Z",
          "iopub.status.idle": "2023-04-29T04:33:25.402731Z",
          "shell.execute_reply.started": "2023-04-29T04:33:25.392274Z",
          "shell.execute_reply": "2023-04-29T04:33:25.401544Z"
        },
        "trusted": true,
        "id": "CKc3kjGTzkKH"
      },
      "execution_count": null,
      "outputs": []
    },
    {
      "cell_type": "markdown",
      "source": [
        "The azimuth and zenith angles for each event are deduced from the x,y,z orientation of the neutrinos obtained.Computation is considered through the relations given by,\n",
        "\n",
        "x = cos(azimuth) * sin(zenith)\n",
        "\n",
        "y = sin(azimuth) * sin(zenith)\n",
        "\n",
        "z = cos(zenith)"
      ],
      "metadata": {
        "id": "1KFrmRYIzkKH"
      }
    },
    {
      "cell_type": "code",
      "source": [
        "import warnings\n",
        "warnings.filterwarnings('ignore')"
      ],
      "metadata": {
        "execution": {
          "iopub.status.busy": "2023-04-29T04:33:25.406944Z",
          "iopub.execute_input": "2023-04-29T04:33:25.407325Z",
          "iopub.status.idle": "2023-04-29T04:33:25.413799Z",
          "shell.execute_reply.started": "2023-04-29T04:33:25.407276Z",
          "shell.execute_reply": "2023-04-29T04:33:25.412659Z"
        },
        "trusted": true,
        "id": "w7nFGaPmzkKI"
      },
      "execution_count": null,
      "outputs": []
    },
    {
      "cell_type": "code",
      "source": [
        "import glob"
      ],
      "metadata": {
        "execution": {
          "iopub.status.busy": "2023-04-29T04:33:25.415077Z",
          "iopub.execute_input": "2023-04-29T04:33:25.415442Z",
          "iopub.status.idle": "2023-04-29T04:33:25.425714Z",
          "shell.execute_reply.started": "2023-04-29T04:33:25.41541Z",
          "shell.execute_reply": "2023-04-29T04:33:25.424519Z"
        },
        "trusted": true,
        "id": "rrTIQTpyzkKI"
      },
      "execution_count": null,
      "outputs": []
    },
    {
      "cell_type": "code",
      "source": [
        "tm=pl.read_parquet('/kaggle/input/icecube-neutrinos-in-deep-ice/test_meta.parquet')\n",
        "tem=tm.to_pandas()\n",
        "ls=len(tem)"
      ],
      "metadata": {
        "execution": {
          "iopub.status.busy": "2023-04-29T04:33:25.427117Z",
          "iopub.execute_input": "2023-04-29T04:33:25.42753Z",
          "iopub.status.idle": "2023-04-29T04:33:26.618243Z",
          "shell.execute_reply.started": "2023-04-29T04:33:25.427446Z",
          "shell.execute_reply": "2023-04-29T04:33:26.617266Z"
        },
        "trusted": true,
        "id": "9PCNRbD3zkKI"
      },
      "execution_count": null,
      "outputs": []
    },
    {
      "cell_type": "code",
      "source": [
        "def updateangle(testmeta):\n",
        "    anglaz=[]\n",
        "    anglze=[]\n",
        "    t=glob.glob(os.path.join('/kaggle/input/icecube-neutrinos-in-deep-ice', \"test\", \"*.parquet\"))\n",
        "    t.sort()\n",
        "    count=0\n",
        "    for b in t:\n",
        "        testdf=pl.read_parquet(b)\n",
        "        tes=testdf.to_pandas()\n",
        "        l=tes['time'][0]\n",
        "        tes[\"vel_dist\"]=(tes[\"time\"]-l)*0.158 #compute the distance travelled\n",
        "        for i in range(count,ls):\n",
        "            btdf=tes.iloc[testmeta.iloc[i].first_pulse_index.astype(int):testmeta.iloc[i].last_pulse_index.astype(int)+1].copy()\n",
        "            direct=fetchxyz(btdf) #obtain the orientation of the neutrinos for each event.\n",
        "            pa,pz=predangle(direct)#obtain the azimuth and zenith\n",
        "            anglaz.append(pa)\n",
        "            anglze.append(pz)\n",
        "            count+=1\n",
        "        del testdf\n",
        "    return anglaz,anglze"
      ],
      "metadata": {
        "execution": {
          "iopub.status.busy": "2023-04-29T04:33:26.619173Z",
          "iopub.execute_input": "2023-04-29T04:33:26.619503Z",
          "iopub.status.idle": "2023-04-29T04:33:26.628523Z",
          "shell.execute_reply.started": "2023-04-29T04:33:26.619471Z",
          "shell.execute_reply": "2023-04-29T04:33:26.627429Z"
        },
        "trusted": true,
        "id": "RTnzKOEazkKJ"
      },
      "execution_count": null,
      "outputs": []
    },
    {
      "cell_type": "code",
      "source": [
        "angle_a,angle_z=updateangle(tem)"
      ],
      "metadata": {
        "execution": {
          "iopub.status.busy": "2023-04-29T04:33:26.629724Z",
          "iopub.execute_input": "2023-04-29T04:33:26.630063Z",
          "iopub.status.idle": "2023-04-29T04:33:26.738404Z",
          "shell.execute_reply.started": "2023-04-29T04:33:26.630031Z",
          "shell.execute_reply": "2023-04-29T04:33:26.737113Z"
        },
        "trusted": true,
        "id": "qaBhQoDZzkKJ"
      },
      "execution_count": null,
      "outputs": []
    },
    {
      "cell_type": "code",
      "source": [
        "tem['azimuth']=angle_a\n",
        "tem['zenith']=angle_z"
      ],
      "metadata": {
        "execution": {
          "iopub.status.busy": "2023-04-29T04:33:26.740072Z",
          "iopub.execute_input": "2023-04-29T04:33:26.740437Z",
          "iopub.status.idle": "2023-04-29T04:33:26.746884Z",
          "shell.execute_reply.started": "2023-04-29T04:33:26.740406Z",
          "shell.execute_reply": "2023-04-29T04:33:26.745449Z"
        },
        "trusted": true,
        "id": "2sHcItuNzkKJ"
      },
      "execution_count": null,
      "outputs": []
    },
    {
      "cell_type": "code",
      "source": [
        "subp=tem[['event_id', 'azimuth', 'zenith']]"
      ],
      "metadata": {
        "execution": {
          "iopub.status.busy": "2023-04-29T04:33:26.74856Z",
          "iopub.execute_input": "2023-04-29T04:33:26.749001Z",
          "iopub.status.idle": "2023-04-29T04:33:26.761254Z",
          "shell.execute_reply.started": "2023-04-29T04:33:26.748956Z",
          "shell.execute_reply": "2023-04-29T04:33:26.760291Z"
        },
        "trusted": true,
        "id": "ad1lW_8vzkKL"
      },
      "execution_count": null,
      "outputs": []
    },
    {
      "cell_type": "code",
      "source": [
        "subp"
      ],
      "metadata": {
        "execution": {
          "iopub.status.busy": "2023-04-29T04:33:26.762647Z",
          "iopub.execute_input": "2023-04-29T04:33:26.763679Z",
          "iopub.status.idle": "2023-04-29T04:33:26.789403Z",
          "shell.execute_reply.started": "2023-04-29T04:33:26.763628Z",
          "shell.execute_reply": "2023-04-29T04:33:26.788561Z"
        },
        "trusted": true,
        "id": "kSveIWkvzkKL"
      },
      "execution_count": null,
      "outputs": []
    },
    {
      "cell_type": "code",
      "source": [
        "subp.to_csv(\"submission.csv\",index=False)"
      ],
      "metadata": {
        "execution": {
          "iopub.status.busy": "2023-04-29T04:33:26.790423Z",
          "iopub.execute_input": "2023-04-29T04:33:26.791421Z",
          "iopub.status.idle": "2023-04-29T04:33:26.800315Z",
          "shell.execute_reply.started": "2023-04-29T04:33:26.791382Z",
          "shell.execute_reply": "2023-04-29T04:33:26.79931Z"
        },
        "trusted": true,
        "id": "cQC6PH4GzkKL"
      },
      "execution_count": null,
      "outputs": []
    }
  ]
}